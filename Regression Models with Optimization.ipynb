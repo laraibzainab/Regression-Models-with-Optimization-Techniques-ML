{
  "nbformat": 4,
  "nbformat_minor": 0,
  "metadata": {
    "colab": {
      "provenance": []
    },
    "kernelspec": {
      "name": "python3",
      "display_name": "Python 3"
    },
    "language_info": {
      "name": "python"
    }
  },
  "cells": [
    {
      "cell_type": "code",
      "source": [
        "import numpy as np\n",
        "import pandas as pd\n",
        "from sklearn.decomposition import PCA\n",
        "from numpy.lib.function_base import quantile\n",
        "from sklearn.preprocessing import StandardScaler\n",
        "from sklearn.metrics import mean_absolute_error"
      ],
      "metadata": {
        "id": "MHQE96mt7Q-G"
      },
      "execution_count": 198,
      "outputs": []
    },
    {
      "cell_type": "markdown",
      "source": [
        "Load The Dataset"
      ],
      "metadata": {
        "id": "WWJbMzzLBbOo"
      }
    },
    {
      "cell_type": "code",
      "execution_count": 199,
      "metadata": {
        "id": "WH9UIwqquETW"
      },
      "outputs": [],
      "source": [
        "dataset = pd.read_excel(\"Core_Swi_23.xlsx\")"
      ]
    },
    {
      "cell_type": "code",
      "source": [
        "dataset.head()"
      ],
      "metadata": {
        "colab": {
          "base_uri": "https://localhost:8080/",
          "height": 206
        },
        "id": "YYk0KDdVuiGy",
        "outputId": "c84b60f0-bf3b-44a9-96f5-b3b5867af38f"
      },
      "execution_count": 200,
      "outputs": [
        {
          "output_type": "execute_result",
          "data": {
            "text/plain": [
              "     Depth       TOC    Calcite  Porosity      Swirr     Quartz       TOC1  \\\n",
              "0  2773.88  4.389823   0.000000  7.059657   7.113304  40.625792  19.270550   \n",
              "1  2776.00  4.386618   6.364645  6.336578   9.364680  51.606889  19.242421   \n",
              "2  2778.13  3.445457   2.639268  4.697208   5.931133  41.462293  11.871172   \n",
              "3  2780.25 -0.310000  67.332860  6.321279  11.776418   4.069170   0.096100   \n",
              "4  2782.48  4.059924   0.618621  5.686218   7.382626  38.091079  16.482983   \n",
              "\n",
              "     Mineral   Wat_Per   TOC_Per         QC        PS        S2      TOC3  \\\n",
              "0  40.625792  1.007599  0.621818 -40.625792 -0.053647  0.005060  0.092058   \n",
              "1  57.971534  1.477877  0.692269 -45.242245 -3.028102  0.008770  0.068213   \n",
              "2  44.101561  1.262693  0.733512 -38.823025 -1.233925  0.003518  0.070605   \n",
              "3  71.402031  1.862980 -0.049041  63.263690 -5.455139  0.013868 -0.003989   \n",
              "4  38.709700  1.298337  0.713994 -37.472458 -1.696408  0.005450  0.091448   \n",
              "\n",
              "         PS2       PS3       PS4  \n",
              "0  50.217483  0.084014  0.035721  \n",
              "1  59.340029  0.013945  0.055570  \n",
              "2  27.859765  0.011315  0.016524  \n",
              "3  74.442022  0.004510  0.087666  \n",
              "4  41.979219  0.015487  0.030992  "
            ],
            "text/html": [
              "\n",
              "  <div id=\"df-9b329211-1f2a-43ed-ad50-ddd6ff569b58\">\n",
              "    <div class=\"colab-df-container\">\n",
              "      <div>\n",
              "<style scoped>\n",
              "    .dataframe tbody tr th:only-of-type {\n",
              "        vertical-align: middle;\n",
              "    }\n",
              "\n",
              "    .dataframe tbody tr th {\n",
              "        vertical-align: top;\n",
              "    }\n",
              "\n",
              "    .dataframe thead th {\n",
              "        text-align: right;\n",
              "    }\n",
              "</style>\n",
              "<table border=\"1\" class=\"dataframe\">\n",
              "  <thead>\n",
              "    <tr style=\"text-align: right;\">\n",
              "      <th></th>\n",
              "      <th>Depth</th>\n",
              "      <th>TOC</th>\n",
              "      <th>Calcite</th>\n",
              "      <th>Porosity</th>\n",
              "      <th>Swirr</th>\n",
              "      <th>Quartz</th>\n",
              "      <th>TOC1</th>\n",
              "      <th>Mineral</th>\n",
              "      <th>Wat_Per</th>\n",
              "      <th>TOC_Per</th>\n",
              "      <th>QC</th>\n",
              "      <th>PS</th>\n",
              "      <th>S2</th>\n",
              "      <th>TOC3</th>\n",
              "      <th>PS2</th>\n",
              "      <th>PS3</th>\n",
              "      <th>PS4</th>\n",
              "    </tr>\n",
              "  </thead>\n",
              "  <tbody>\n",
              "    <tr>\n",
              "      <th>0</th>\n",
              "      <td>2773.88</td>\n",
              "      <td>4.389823</td>\n",
              "      <td>0.000000</td>\n",
              "      <td>7.059657</td>\n",
              "      <td>7.113304</td>\n",
              "      <td>40.625792</td>\n",
              "      <td>19.270550</td>\n",
              "      <td>40.625792</td>\n",
              "      <td>1.007599</td>\n",
              "      <td>0.621818</td>\n",
              "      <td>-40.625792</td>\n",
              "      <td>-0.053647</td>\n",
              "      <td>0.005060</td>\n",
              "      <td>0.092058</td>\n",
              "      <td>50.217483</td>\n",
              "      <td>0.084014</td>\n",
              "      <td>0.035721</td>\n",
              "    </tr>\n",
              "    <tr>\n",
              "      <th>1</th>\n",
              "      <td>2776.00</td>\n",
              "      <td>4.386618</td>\n",
              "      <td>6.364645</td>\n",
              "      <td>6.336578</td>\n",
              "      <td>9.364680</td>\n",
              "      <td>51.606889</td>\n",
              "      <td>19.242421</td>\n",
              "      <td>57.971534</td>\n",
              "      <td>1.477877</td>\n",
              "      <td>0.692269</td>\n",
              "      <td>-45.242245</td>\n",
              "      <td>-3.028102</td>\n",
              "      <td>0.008770</td>\n",
              "      <td>0.068213</td>\n",
              "      <td>59.340029</td>\n",
              "      <td>0.013945</td>\n",
              "      <td>0.055570</td>\n",
              "    </tr>\n",
              "    <tr>\n",
              "      <th>2</th>\n",
              "      <td>2778.13</td>\n",
              "      <td>3.445457</td>\n",
              "      <td>2.639268</td>\n",
              "      <td>4.697208</td>\n",
              "      <td>5.931133</td>\n",
              "      <td>41.462293</td>\n",
              "      <td>11.871172</td>\n",
              "      <td>44.101561</td>\n",
              "      <td>1.262693</td>\n",
              "      <td>0.733512</td>\n",
              "      <td>-38.823025</td>\n",
              "      <td>-1.233925</td>\n",
              "      <td>0.003518</td>\n",
              "      <td>0.070605</td>\n",
              "      <td>27.859765</td>\n",
              "      <td>0.011315</td>\n",
              "      <td>0.016524</td>\n",
              "    </tr>\n",
              "    <tr>\n",
              "      <th>3</th>\n",
              "      <td>2780.25</td>\n",
              "      <td>-0.310000</td>\n",
              "      <td>67.332860</td>\n",
              "      <td>6.321279</td>\n",
              "      <td>11.776418</td>\n",
              "      <td>4.069170</td>\n",
              "      <td>0.096100</td>\n",
              "      <td>71.402031</td>\n",
              "      <td>1.862980</td>\n",
              "      <td>-0.049041</td>\n",
              "      <td>63.263690</td>\n",
              "      <td>-5.455139</td>\n",
              "      <td>0.013868</td>\n",
              "      <td>-0.003989</td>\n",
              "      <td>74.442022</td>\n",
              "      <td>0.004510</td>\n",
              "      <td>0.087666</td>\n",
              "    </tr>\n",
              "    <tr>\n",
              "      <th>4</th>\n",
              "      <td>2782.48</td>\n",
              "      <td>4.059924</td>\n",
              "      <td>0.618621</td>\n",
              "      <td>5.686218</td>\n",
              "      <td>7.382626</td>\n",
              "      <td>38.091079</td>\n",
              "      <td>16.482983</td>\n",
              "      <td>38.709700</td>\n",
              "      <td>1.298337</td>\n",
              "      <td>0.713994</td>\n",
              "      <td>-37.472458</td>\n",
              "      <td>-1.696408</td>\n",
              "      <td>0.005450</td>\n",
              "      <td>0.091448</td>\n",
              "      <td>41.979219</td>\n",
              "      <td>0.015487</td>\n",
              "      <td>0.030992</td>\n",
              "    </tr>\n",
              "  </tbody>\n",
              "</table>\n",
              "</div>\n",
              "      <button class=\"colab-df-convert\" onclick=\"convertToInteractive('df-9b329211-1f2a-43ed-ad50-ddd6ff569b58')\"\n",
              "              title=\"Convert this dataframe to an interactive table.\"\n",
              "              style=\"display:none;\">\n",
              "        \n",
              "  <svg xmlns=\"http://www.w3.org/2000/svg\" height=\"24px\"viewBox=\"0 0 24 24\"\n",
              "       width=\"24px\">\n",
              "    <path d=\"M0 0h24v24H0V0z\" fill=\"none\"/>\n",
              "    <path d=\"M18.56 5.44l.94 2.06.94-2.06 2.06-.94-2.06-.94-.94-2.06-.94 2.06-2.06.94zm-11 1L8.5 8.5l.94-2.06 2.06-.94-2.06-.94L8.5 2.5l-.94 2.06-2.06.94zm10 10l.94 2.06.94-2.06 2.06-.94-2.06-.94-.94-2.06-.94 2.06-2.06.94z\"/><path d=\"M17.41 7.96l-1.37-1.37c-.4-.4-.92-.59-1.43-.59-.52 0-1.04.2-1.43.59L10.3 9.45l-7.72 7.72c-.78.78-.78 2.05 0 2.83L4 21.41c.39.39.9.59 1.41.59.51 0 1.02-.2 1.41-.59l7.78-7.78 2.81-2.81c.8-.78.8-2.07 0-2.86zM5.41 20L4 18.59l7.72-7.72 1.47 1.35L5.41 20z\"/>\n",
              "  </svg>\n",
              "      </button>\n",
              "      \n",
              "  <style>\n",
              "    .colab-df-container {\n",
              "      display:flex;\n",
              "      flex-wrap:wrap;\n",
              "      gap: 12px;\n",
              "    }\n",
              "\n",
              "    .colab-df-convert {\n",
              "      background-color: #E8F0FE;\n",
              "      border: none;\n",
              "      border-radius: 50%;\n",
              "      cursor: pointer;\n",
              "      display: none;\n",
              "      fill: #1967D2;\n",
              "      height: 32px;\n",
              "      padding: 0 0 0 0;\n",
              "      width: 32px;\n",
              "    }\n",
              "\n",
              "    .colab-df-convert:hover {\n",
              "      background-color: #E2EBFA;\n",
              "      box-shadow: 0px 1px 2px rgba(60, 64, 67, 0.3), 0px 1px 3px 1px rgba(60, 64, 67, 0.15);\n",
              "      fill: #174EA6;\n",
              "    }\n",
              "\n",
              "    [theme=dark] .colab-df-convert {\n",
              "      background-color: #3B4455;\n",
              "      fill: #D2E3FC;\n",
              "    }\n",
              "\n",
              "    [theme=dark] .colab-df-convert:hover {\n",
              "      background-color: #434B5C;\n",
              "      box-shadow: 0px 1px 3px 1px rgba(0, 0, 0, 0.15);\n",
              "      filter: drop-shadow(0px 1px 2px rgba(0, 0, 0, 0.3));\n",
              "      fill: #FFFFFF;\n",
              "    }\n",
              "  </style>\n",
              "\n",
              "      <script>\n",
              "        const buttonEl =\n",
              "          document.querySelector('#df-9b329211-1f2a-43ed-ad50-ddd6ff569b58 button.colab-df-convert');\n",
              "        buttonEl.style.display =\n",
              "          google.colab.kernel.accessAllowed ? 'block' : 'none';\n",
              "\n",
              "        async function convertToInteractive(key) {\n",
              "          const element = document.querySelector('#df-9b329211-1f2a-43ed-ad50-ddd6ff569b58');\n",
              "          const dataTable =\n",
              "            await google.colab.kernel.invokeFunction('convertToInteractive',\n",
              "                                                     [key], {});\n",
              "          if (!dataTable) return;\n",
              "\n",
              "          const docLinkHtml = 'Like what you see? Visit the ' +\n",
              "            '<a target=\"_blank\" href=https://colab.research.google.com/notebooks/data_table.ipynb>data table notebook</a>'\n",
              "            + ' to learn more about interactive tables.';\n",
              "          element.innerHTML = '';\n",
              "          dataTable['output_type'] = 'display_data';\n",
              "          await google.colab.output.renderOutput(dataTable, element);\n",
              "          const docLink = document.createElement('div');\n",
              "          docLink.innerHTML = docLinkHtml;\n",
              "          element.appendChild(docLink);\n",
              "        }\n",
              "      </script>\n",
              "    </div>\n",
              "  </div>\n",
              "  "
            ]
          },
          "metadata": {},
          "execution_count": 200
        }
      ]
    },
    {
      "cell_type": "markdown",
      "source": [
        "# Perform outlier detection and feature scaling"
      ],
      "metadata": {
        "id": "LfZ3VLXm2A9b"
      }
    },
    {
      "cell_type": "markdown",
      "source": [
        "Outlier_Detection"
      ],
      "metadata": {
        "id": "PdLCaOms2DfQ"
      }
    },
    {
      "cell_type": "code",
      "source": [
        "quantile1, quantile3 = dataset.quantile(.25), dataset.quantile(.75)\n",
        "IQR= quantile3 - quantile1\n",
        "lower_limit = quantile1 - (1.5 * IQR)\n",
        "upper_limit = quantile3 + (1.5 * IQR)\n",
        "\n",
        "detected_outliers = ((dataset < lower_limit) | (dataset > upper_limit)).any(axis = 1)"
      ],
      "metadata": {
        "id": "F_ZekCtluoD7"
      },
      "execution_count": 201,
      "outputs": []
    },
    {
      "cell_type": "code",
      "source": [
        "dataset=dataset.loc[~detected_outliers, :]\n",
        "dataset"
      ],
      "metadata": {
        "colab": {
          "base_uri": "https://localhost:8080/",
          "height": 423
        },
        "id": "nrLFV6tnyGn0",
        "outputId": "9606abff-f626-4257-df47-bff8db7fbe1b"
      },
      "execution_count": 202,
      "outputs": [
        {
          "output_type": "execute_result",
          "data": {
            "text/plain": [
              "           Depth       TOC    Calcite  Porosity      Swirr     Quartz  \\\n",
              "1    2776.000000  4.386618   6.364645  6.336578   9.364680  51.606889   \n",
              "2    2778.130000  3.445457   2.639268  4.697208   5.931133  41.462293   \n",
              "4    2782.480000  4.059924   0.618621  5.686218   7.382626  38.091079   \n",
              "7    2788.740000  4.276764  11.000699  6.281519   9.531097  43.383418   \n",
              "8    2790.750000  3.794683  23.723766  5.169060  10.828240  33.071467   \n",
              "..           ...       ...        ...       ...        ...        ...   \n",
              "182  3178.483333  4.891724  11.890476  5.415370  13.227773  42.452772   \n",
              "183  3180.443333  2.629111  22.198960  4.332587   7.528755  29.966589   \n",
              "186  3186.323333  2.553386  33.143510  2.437865  10.223862  21.050821   \n",
              "187  3188.283333  1.578782  29.912994  2.458192   7.509209   3.277051   \n",
              "188  3190.243333  1.816236  39.462450  2.710616   9.458606  10.179160   \n",
              "\n",
              "          TOC1    Mineral   Wat_Per   TOC_Per         QC        PS        S2  \\\n",
              "1    19.242421  57.971534  1.477877  0.692269 -45.242245 -3.028102  0.008770   \n",
              "2    11.871172  44.101561  1.262693  0.733512 -38.823025 -1.233925  0.003518   \n",
              "4    16.482983  38.709700  1.298337  0.713994 -37.472458 -1.696408  0.005450   \n",
              "7    18.290707  54.384117  1.517324  0.680849 -32.382719 -3.249578  0.009084   \n",
              "8    14.399616  56.795234  2.094818  0.734115  -9.347701 -5.659180  0.011725   \n",
              "..         ...        ...       ...       ...        ...       ...       ...   \n",
              "182  23.928964  54.343248  2.442635  0.903304 -30.562296 -7.812403  0.017497   \n",
              "183   6.912222  52.165549  1.737704  0.606822  -7.767629 -3.196168  0.005668   \n",
              "186   6.519779  54.194331  4.193777  1.047386  12.092689 -7.785997  0.010453   \n",
              "187   2.492552  33.190045  3.054769  0.642253  26.635943 -5.051017  0.005639   \n",
              "188   3.298711  49.641611  3.489467  0.670045  29.283290 -6.747990  0.008947   \n",
              "\n",
              "         TOC3        PS2           PS3       PS4  \n",
              "1    0.068213  59.340029  1.394548e-02  0.055570  \n",
              "2    0.070605  27.859765  1.131458e-02  0.016524  \n",
              "4    0.091448  41.979219  1.548651e-02  0.030992  \n",
              "7    0.070497  59.869773  1.189419e-02  0.057062  \n",
              "8    0.061240  55.971825  7.884099e-04  0.060608  \n",
              "..        ...        ...           ...       ...  \n",
              "182  0.081858  71.633282  2.995665e-04  0.094755  \n",
              "183  0.046534  32.618988  1.841448e-03  0.024558  \n",
              "186  0.045087  24.924396  5.405942e-07  0.025482  \n",
              "187  0.044288  18.459078  2.654647e-05  0.013861  \n",
              "188  0.034693  25.638650  4.341236e-06  0.024251  \n",
              "\n",
              "[120 rows x 17 columns]"
            ],
            "text/html": [
              "\n",
              "  <div id=\"df-be5554c0-724c-48f1-8d84-df8fe046b308\">\n",
              "    <div class=\"colab-df-container\">\n",
              "      <div>\n",
              "<style scoped>\n",
              "    .dataframe tbody tr th:only-of-type {\n",
              "        vertical-align: middle;\n",
              "    }\n",
              "\n",
              "    .dataframe tbody tr th {\n",
              "        vertical-align: top;\n",
              "    }\n",
              "\n",
              "    .dataframe thead th {\n",
              "        text-align: right;\n",
              "    }\n",
              "</style>\n",
              "<table border=\"1\" class=\"dataframe\">\n",
              "  <thead>\n",
              "    <tr style=\"text-align: right;\">\n",
              "      <th></th>\n",
              "      <th>Depth</th>\n",
              "      <th>TOC</th>\n",
              "      <th>Calcite</th>\n",
              "      <th>Porosity</th>\n",
              "      <th>Swirr</th>\n",
              "      <th>Quartz</th>\n",
              "      <th>TOC1</th>\n",
              "      <th>Mineral</th>\n",
              "      <th>Wat_Per</th>\n",
              "      <th>TOC_Per</th>\n",
              "      <th>QC</th>\n",
              "      <th>PS</th>\n",
              "      <th>S2</th>\n",
              "      <th>TOC3</th>\n",
              "      <th>PS2</th>\n",
              "      <th>PS3</th>\n",
              "      <th>PS4</th>\n",
              "    </tr>\n",
              "  </thead>\n",
              "  <tbody>\n",
              "    <tr>\n",
              "      <th>1</th>\n",
              "      <td>2776.000000</td>\n",
              "      <td>4.386618</td>\n",
              "      <td>6.364645</td>\n",
              "      <td>6.336578</td>\n",
              "      <td>9.364680</td>\n",
              "      <td>51.606889</td>\n",
              "      <td>19.242421</td>\n",
              "      <td>57.971534</td>\n",
              "      <td>1.477877</td>\n",
              "      <td>0.692269</td>\n",
              "      <td>-45.242245</td>\n",
              "      <td>-3.028102</td>\n",
              "      <td>0.008770</td>\n",
              "      <td>0.068213</td>\n",
              "      <td>59.340029</td>\n",
              "      <td>1.394548e-02</td>\n",
              "      <td>0.055570</td>\n",
              "    </tr>\n",
              "    <tr>\n",
              "      <th>2</th>\n",
              "      <td>2778.130000</td>\n",
              "      <td>3.445457</td>\n",
              "      <td>2.639268</td>\n",
              "      <td>4.697208</td>\n",
              "      <td>5.931133</td>\n",
              "      <td>41.462293</td>\n",
              "      <td>11.871172</td>\n",
              "      <td>44.101561</td>\n",
              "      <td>1.262693</td>\n",
              "      <td>0.733512</td>\n",
              "      <td>-38.823025</td>\n",
              "      <td>-1.233925</td>\n",
              "      <td>0.003518</td>\n",
              "      <td>0.070605</td>\n",
              "      <td>27.859765</td>\n",
              "      <td>1.131458e-02</td>\n",
              "      <td>0.016524</td>\n",
              "    </tr>\n",
              "    <tr>\n",
              "      <th>4</th>\n",
              "      <td>2782.480000</td>\n",
              "      <td>4.059924</td>\n",
              "      <td>0.618621</td>\n",
              "      <td>5.686218</td>\n",
              "      <td>7.382626</td>\n",
              "      <td>38.091079</td>\n",
              "      <td>16.482983</td>\n",
              "      <td>38.709700</td>\n",
              "      <td>1.298337</td>\n",
              "      <td>0.713994</td>\n",
              "      <td>-37.472458</td>\n",
              "      <td>-1.696408</td>\n",
              "      <td>0.005450</td>\n",
              "      <td>0.091448</td>\n",
              "      <td>41.979219</td>\n",
              "      <td>1.548651e-02</td>\n",
              "      <td>0.030992</td>\n",
              "    </tr>\n",
              "    <tr>\n",
              "      <th>7</th>\n",
              "      <td>2788.740000</td>\n",
              "      <td>4.276764</td>\n",
              "      <td>11.000699</td>\n",
              "      <td>6.281519</td>\n",
              "      <td>9.531097</td>\n",
              "      <td>43.383418</td>\n",
              "      <td>18.290707</td>\n",
              "      <td>54.384117</td>\n",
              "      <td>1.517324</td>\n",
              "      <td>0.680849</td>\n",
              "      <td>-32.382719</td>\n",
              "      <td>-3.249578</td>\n",
              "      <td>0.009084</td>\n",
              "      <td>0.070497</td>\n",
              "      <td>59.869773</td>\n",
              "      <td>1.189419e-02</td>\n",
              "      <td>0.057062</td>\n",
              "    </tr>\n",
              "    <tr>\n",
              "      <th>8</th>\n",
              "      <td>2790.750000</td>\n",
              "      <td>3.794683</td>\n",
              "      <td>23.723766</td>\n",
              "      <td>5.169060</td>\n",
              "      <td>10.828240</td>\n",
              "      <td>33.071467</td>\n",
              "      <td>14.399616</td>\n",
              "      <td>56.795234</td>\n",
              "      <td>2.094818</td>\n",
              "      <td>0.734115</td>\n",
              "      <td>-9.347701</td>\n",
              "      <td>-5.659180</td>\n",
              "      <td>0.011725</td>\n",
              "      <td>0.061240</td>\n",
              "      <td>55.971825</td>\n",
              "      <td>7.884099e-04</td>\n",
              "      <td>0.060608</td>\n",
              "    </tr>\n",
              "    <tr>\n",
              "      <th>...</th>\n",
              "      <td>...</td>\n",
              "      <td>...</td>\n",
              "      <td>...</td>\n",
              "      <td>...</td>\n",
              "      <td>...</td>\n",
              "      <td>...</td>\n",
              "      <td>...</td>\n",
              "      <td>...</td>\n",
              "      <td>...</td>\n",
              "      <td>...</td>\n",
              "      <td>...</td>\n",
              "      <td>...</td>\n",
              "      <td>...</td>\n",
              "      <td>...</td>\n",
              "      <td>...</td>\n",
              "      <td>...</td>\n",
              "      <td>...</td>\n",
              "    </tr>\n",
              "    <tr>\n",
              "      <th>182</th>\n",
              "      <td>3178.483333</td>\n",
              "      <td>4.891724</td>\n",
              "      <td>11.890476</td>\n",
              "      <td>5.415370</td>\n",
              "      <td>13.227773</td>\n",
              "      <td>42.452772</td>\n",
              "      <td>23.928964</td>\n",
              "      <td>54.343248</td>\n",
              "      <td>2.442635</td>\n",
              "      <td>0.903304</td>\n",
              "      <td>-30.562296</td>\n",
              "      <td>-7.812403</td>\n",
              "      <td>0.017497</td>\n",
              "      <td>0.081858</td>\n",
              "      <td>71.633282</td>\n",
              "      <td>2.995665e-04</td>\n",
              "      <td>0.094755</td>\n",
              "    </tr>\n",
              "    <tr>\n",
              "      <th>183</th>\n",
              "      <td>3180.443333</td>\n",
              "      <td>2.629111</td>\n",
              "      <td>22.198960</td>\n",
              "      <td>4.332587</td>\n",
              "      <td>7.528755</td>\n",
              "      <td>29.966589</td>\n",
              "      <td>6.912222</td>\n",
              "      <td>52.165549</td>\n",
              "      <td>1.737704</td>\n",
              "      <td>0.606822</td>\n",
              "      <td>-7.767629</td>\n",
              "      <td>-3.196168</td>\n",
              "      <td>0.005668</td>\n",
              "      <td>0.046534</td>\n",
              "      <td>32.618988</td>\n",
              "      <td>1.841448e-03</td>\n",
              "      <td>0.024558</td>\n",
              "    </tr>\n",
              "    <tr>\n",
              "      <th>186</th>\n",
              "      <td>3186.323333</td>\n",
              "      <td>2.553386</td>\n",
              "      <td>33.143510</td>\n",
              "      <td>2.437865</td>\n",
              "      <td>10.223862</td>\n",
              "      <td>21.050821</td>\n",
              "      <td>6.519779</td>\n",
              "      <td>54.194331</td>\n",
              "      <td>4.193777</td>\n",
              "      <td>1.047386</td>\n",
              "      <td>12.092689</td>\n",
              "      <td>-7.785997</td>\n",
              "      <td>0.010453</td>\n",
              "      <td>0.045087</td>\n",
              "      <td>24.924396</td>\n",
              "      <td>5.405942e-07</td>\n",
              "      <td>0.025482</td>\n",
              "    </tr>\n",
              "    <tr>\n",
              "      <th>187</th>\n",
              "      <td>3188.283333</td>\n",
              "      <td>1.578782</td>\n",
              "      <td>29.912994</td>\n",
              "      <td>2.458192</td>\n",
              "      <td>7.509209</td>\n",
              "      <td>3.277051</td>\n",
              "      <td>2.492552</td>\n",
              "      <td>33.190045</td>\n",
              "      <td>3.054769</td>\n",
              "      <td>0.642253</td>\n",
              "      <td>26.635943</td>\n",
              "      <td>-5.051017</td>\n",
              "      <td>0.005639</td>\n",
              "      <td>0.044288</td>\n",
              "      <td>18.459078</td>\n",
              "      <td>2.654647e-05</td>\n",
              "      <td>0.013861</td>\n",
              "    </tr>\n",
              "    <tr>\n",
              "      <th>188</th>\n",
              "      <td>3190.243333</td>\n",
              "      <td>1.816236</td>\n",
              "      <td>39.462450</td>\n",
              "      <td>2.710616</td>\n",
              "      <td>9.458606</td>\n",
              "      <td>10.179160</td>\n",
              "      <td>3.298711</td>\n",
              "      <td>49.641611</td>\n",
              "      <td>3.489467</td>\n",
              "      <td>0.670045</td>\n",
              "      <td>29.283290</td>\n",
              "      <td>-6.747990</td>\n",
              "      <td>0.008947</td>\n",
              "      <td>0.034693</td>\n",
              "      <td>25.638650</td>\n",
              "      <td>4.341236e-06</td>\n",
              "      <td>0.024251</td>\n",
              "    </tr>\n",
              "  </tbody>\n",
              "</table>\n",
              "<p>120 rows × 17 columns</p>\n",
              "</div>\n",
              "      <button class=\"colab-df-convert\" onclick=\"convertToInteractive('df-be5554c0-724c-48f1-8d84-df8fe046b308')\"\n",
              "              title=\"Convert this dataframe to an interactive table.\"\n",
              "              style=\"display:none;\">\n",
              "        \n",
              "  <svg xmlns=\"http://www.w3.org/2000/svg\" height=\"24px\"viewBox=\"0 0 24 24\"\n",
              "       width=\"24px\">\n",
              "    <path d=\"M0 0h24v24H0V0z\" fill=\"none\"/>\n",
              "    <path d=\"M18.56 5.44l.94 2.06.94-2.06 2.06-.94-2.06-.94-.94-2.06-.94 2.06-2.06.94zm-11 1L8.5 8.5l.94-2.06 2.06-.94-2.06-.94L8.5 2.5l-.94 2.06-2.06.94zm10 10l.94 2.06.94-2.06 2.06-.94-2.06-.94-.94-2.06-.94 2.06-2.06.94z\"/><path d=\"M17.41 7.96l-1.37-1.37c-.4-.4-.92-.59-1.43-.59-.52 0-1.04.2-1.43.59L10.3 9.45l-7.72 7.72c-.78.78-.78 2.05 0 2.83L4 21.41c.39.39.9.59 1.41.59.51 0 1.02-.2 1.41-.59l7.78-7.78 2.81-2.81c.8-.78.8-2.07 0-2.86zM5.41 20L4 18.59l7.72-7.72 1.47 1.35L5.41 20z\"/>\n",
              "  </svg>\n",
              "      </button>\n",
              "      \n",
              "  <style>\n",
              "    .colab-df-container {\n",
              "      display:flex;\n",
              "      flex-wrap:wrap;\n",
              "      gap: 12px;\n",
              "    }\n",
              "\n",
              "    .colab-df-convert {\n",
              "      background-color: #E8F0FE;\n",
              "      border: none;\n",
              "      border-radius: 50%;\n",
              "      cursor: pointer;\n",
              "      display: none;\n",
              "      fill: #1967D2;\n",
              "      height: 32px;\n",
              "      padding: 0 0 0 0;\n",
              "      width: 32px;\n",
              "    }\n",
              "\n",
              "    .colab-df-convert:hover {\n",
              "      background-color: #E2EBFA;\n",
              "      box-shadow: 0px 1px 2px rgba(60, 64, 67, 0.3), 0px 1px 3px 1px rgba(60, 64, 67, 0.15);\n",
              "      fill: #174EA6;\n",
              "    }\n",
              "\n",
              "    [theme=dark] .colab-df-convert {\n",
              "      background-color: #3B4455;\n",
              "      fill: #D2E3FC;\n",
              "    }\n",
              "\n",
              "    [theme=dark] .colab-df-convert:hover {\n",
              "      background-color: #434B5C;\n",
              "      box-shadow: 0px 1px 3px 1px rgba(0, 0, 0, 0.15);\n",
              "      filter: drop-shadow(0px 1px 2px rgba(0, 0, 0, 0.3));\n",
              "      fill: #FFFFFF;\n",
              "    }\n",
              "  </style>\n",
              "\n",
              "      <script>\n",
              "        const buttonEl =\n",
              "          document.querySelector('#df-be5554c0-724c-48f1-8d84-df8fe046b308 button.colab-df-convert');\n",
              "        buttonEl.style.display =\n",
              "          google.colab.kernel.accessAllowed ? 'block' : 'none';\n",
              "\n",
              "        async function convertToInteractive(key) {\n",
              "          const element = document.querySelector('#df-be5554c0-724c-48f1-8d84-df8fe046b308');\n",
              "          const dataTable =\n",
              "            await google.colab.kernel.invokeFunction('convertToInteractive',\n",
              "                                                     [key], {});\n",
              "          if (!dataTable) return;\n",
              "\n",
              "          const docLinkHtml = 'Like what you see? Visit the ' +\n",
              "            '<a target=\"_blank\" href=https://colab.research.google.com/notebooks/data_table.ipynb>data table notebook</a>'\n",
              "            + ' to learn more about interactive tables.';\n",
              "          element.innerHTML = '';\n",
              "          dataTable['output_type'] = 'display_data';\n",
              "          await google.colab.output.renderOutput(dataTable, element);\n",
              "          const docLink = document.createElement('div');\n",
              "          docLink.innerHTML = docLinkHtml;\n",
              "          element.appendChild(docLink);\n",
              "        }\n",
              "      </script>\n",
              "    </div>\n",
              "  </div>\n",
              "  "
            ]
          },
          "metadata": {},
          "execution_count": 202
        }
      ]
    },
    {
      "cell_type": "markdown",
      "source": [
        "Featrure_Scaling"
      ],
      "metadata": {
        "id": "3-B2izHC2IbI"
      }
    },
    {
      "cell_type": "code",
      "source": [
        "Scale = StandardScaler()\n",
        "dataset_scaled = Scale.fit_transform(dataset)\n",
        "dataset = pd.DataFrame(dataset_scaled,columns=dataset.columns)\n",
        "#scaled Values\n",
        "dataset"
      ],
      "metadata": {
        "colab": {
          "base_uri": "https://localhost:8080/",
          "height": 423
        },
        "id": "9EWgNOmb2MSk",
        "outputId": "4c0e4452-3caf-44a0-8dab-b8f5e2fb4356"
      },
      "execution_count": 203,
      "outputs": [
        {
          "output_type": "execute_result",
          "data": {
            "text/plain": [
              "        Depth       TOC   Calcite  Porosity     Swirr    Quartz      TOC1  \\\n",
              "0   -1.857246  0.202326 -0.156255  1.853976 -0.262013  1.662856  0.066199   \n",
              "1   -1.839194 -0.574062 -0.497105  0.273510 -1.314004  0.802985 -0.718179   \n",
              "2   -1.802326 -0.067173 -0.681983  1.226984 -0.869287  0.517235 -0.227434   \n",
              "3   -1.749272  0.111704  0.267917  1.800895 -0.211025  0.965822 -0.035073   \n",
              "4   -1.732236 -0.285977  1.432004  0.728408  0.186401  0.091766 -0.449126   \n",
              "..        ...       ...       ...       ...       ...       ...       ...   \n",
              "115  1.553890  0.619000  0.349326  0.965868  0.921585  0.886939  0.564897   \n",
              "116  1.570502 -1.247485  1.292493 -0.078009 -0.824515 -0.171409 -1.245864   \n",
              "117  1.620336 -1.309953  2.293856 -1.904651  0.001228 -0.927123 -1.287624   \n",
              "118  1.636948 -2.113927  1.998282 -1.885055 -0.830504 -2.433654 -1.716163   \n",
              "119  1.653559 -1.918046  2.872002 -1.641701 -0.233236 -1.848621 -1.630379   \n",
              "\n",
              "      Mineral   Wat_Per   TOC_Per        QC        PS        S2      TOC3  \\\n",
              "0    1.544004 -1.048218 -1.034877 -1.090079  0.873129 -0.387330 -0.804559   \n",
              "1    0.348303 -1.284195 -0.868107 -0.761958  1.431715 -1.129718 -0.745316   \n",
              "2   -0.116518 -1.245107 -0.947031 -0.692924  1.287729 -0.856549 -0.229293   \n",
              "3    1.234741 -1.004959 -1.081058 -0.432760  0.804176 -0.342879 -0.747993   \n",
              "4    1.442598 -0.371660 -0.865669  0.744683  0.053988  0.030429 -0.977189   \n",
              "..        ...       ...       ...       ...       ...       ...       ...   \n",
              "115  1.231217  0.009768 -0.181526 -0.339708 -0.616382  0.846383 -0.466724   \n",
              "116  1.043483 -0.763282 -1.380395  0.825449  0.820804 -0.825747 -1.341263   \n",
              "117  1.218380  1.930128  0.401093  1.840615 -0.608161 -0.149425 -1.377095   \n",
              "118 -0.592356  0.681055 -1.237124  2.583999  0.243329 -0.829902 -1.396886   \n",
              "119  0.825899  1.157759 -1.124743  2.719319 -0.284995 -0.362338 -1.634443   \n",
              "\n",
              "          PS2       PS3       PS4  \n",
              "0    0.698518  2.539647  0.092312  \n",
              "1   -0.941327  1.940038 -1.029767  \n",
              "2   -0.205827  2.890863 -0.614004  \n",
              "3    0.726113  2.072139  0.135200  \n",
              "4    0.523065 -0.458976  0.237078  \n",
              "..        ...       ...       ...  \n",
              "115  1.338889 -0.570388  1.218379  \n",
              "116 -0.693413 -0.218979 -0.798890  \n",
              "117 -1.094234 -0.638539 -0.772328  \n",
              "118 -1.431020 -0.632612 -1.106285  \n",
              "119 -1.057027 -0.637673 -0.807725  \n",
              "\n",
              "[120 rows x 17 columns]"
            ],
            "text/html": [
              "\n",
              "  <div id=\"df-17ce46c0-8256-4a5b-9308-764a3d8c563f\">\n",
              "    <div class=\"colab-df-container\">\n",
              "      <div>\n",
              "<style scoped>\n",
              "    .dataframe tbody tr th:only-of-type {\n",
              "        vertical-align: middle;\n",
              "    }\n",
              "\n",
              "    .dataframe tbody tr th {\n",
              "        vertical-align: top;\n",
              "    }\n",
              "\n",
              "    .dataframe thead th {\n",
              "        text-align: right;\n",
              "    }\n",
              "</style>\n",
              "<table border=\"1\" class=\"dataframe\">\n",
              "  <thead>\n",
              "    <tr style=\"text-align: right;\">\n",
              "      <th></th>\n",
              "      <th>Depth</th>\n",
              "      <th>TOC</th>\n",
              "      <th>Calcite</th>\n",
              "      <th>Porosity</th>\n",
              "      <th>Swirr</th>\n",
              "      <th>Quartz</th>\n",
              "      <th>TOC1</th>\n",
              "      <th>Mineral</th>\n",
              "      <th>Wat_Per</th>\n",
              "      <th>TOC_Per</th>\n",
              "      <th>QC</th>\n",
              "      <th>PS</th>\n",
              "      <th>S2</th>\n",
              "      <th>TOC3</th>\n",
              "      <th>PS2</th>\n",
              "      <th>PS3</th>\n",
              "      <th>PS4</th>\n",
              "    </tr>\n",
              "  </thead>\n",
              "  <tbody>\n",
              "    <tr>\n",
              "      <th>0</th>\n",
              "      <td>-1.857246</td>\n",
              "      <td>0.202326</td>\n",
              "      <td>-0.156255</td>\n",
              "      <td>1.853976</td>\n",
              "      <td>-0.262013</td>\n",
              "      <td>1.662856</td>\n",
              "      <td>0.066199</td>\n",
              "      <td>1.544004</td>\n",
              "      <td>-1.048218</td>\n",
              "      <td>-1.034877</td>\n",
              "      <td>-1.090079</td>\n",
              "      <td>0.873129</td>\n",
              "      <td>-0.387330</td>\n",
              "      <td>-0.804559</td>\n",
              "      <td>0.698518</td>\n",
              "      <td>2.539647</td>\n",
              "      <td>0.092312</td>\n",
              "    </tr>\n",
              "    <tr>\n",
              "      <th>1</th>\n",
              "      <td>-1.839194</td>\n",
              "      <td>-0.574062</td>\n",
              "      <td>-0.497105</td>\n",
              "      <td>0.273510</td>\n",
              "      <td>-1.314004</td>\n",
              "      <td>0.802985</td>\n",
              "      <td>-0.718179</td>\n",
              "      <td>0.348303</td>\n",
              "      <td>-1.284195</td>\n",
              "      <td>-0.868107</td>\n",
              "      <td>-0.761958</td>\n",
              "      <td>1.431715</td>\n",
              "      <td>-1.129718</td>\n",
              "      <td>-0.745316</td>\n",
              "      <td>-0.941327</td>\n",
              "      <td>1.940038</td>\n",
              "      <td>-1.029767</td>\n",
              "    </tr>\n",
              "    <tr>\n",
              "      <th>2</th>\n",
              "      <td>-1.802326</td>\n",
              "      <td>-0.067173</td>\n",
              "      <td>-0.681983</td>\n",
              "      <td>1.226984</td>\n",
              "      <td>-0.869287</td>\n",
              "      <td>0.517235</td>\n",
              "      <td>-0.227434</td>\n",
              "      <td>-0.116518</td>\n",
              "      <td>-1.245107</td>\n",
              "      <td>-0.947031</td>\n",
              "      <td>-0.692924</td>\n",
              "      <td>1.287729</td>\n",
              "      <td>-0.856549</td>\n",
              "      <td>-0.229293</td>\n",
              "      <td>-0.205827</td>\n",
              "      <td>2.890863</td>\n",
              "      <td>-0.614004</td>\n",
              "    </tr>\n",
              "    <tr>\n",
              "      <th>3</th>\n",
              "      <td>-1.749272</td>\n",
              "      <td>0.111704</td>\n",
              "      <td>0.267917</td>\n",
              "      <td>1.800895</td>\n",
              "      <td>-0.211025</td>\n",
              "      <td>0.965822</td>\n",
              "      <td>-0.035073</td>\n",
              "      <td>1.234741</td>\n",
              "      <td>-1.004959</td>\n",
              "      <td>-1.081058</td>\n",
              "      <td>-0.432760</td>\n",
              "      <td>0.804176</td>\n",
              "      <td>-0.342879</td>\n",
              "      <td>-0.747993</td>\n",
              "      <td>0.726113</td>\n",
              "      <td>2.072139</td>\n",
              "      <td>0.135200</td>\n",
              "    </tr>\n",
              "    <tr>\n",
              "      <th>4</th>\n",
              "      <td>-1.732236</td>\n",
              "      <td>-0.285977</td>\n",
              "      <td>1.432004</td>\n",
              "      <td>0.728408</td>\n",
              "      <td>0.186401</td>\n",
              "      <td>0.091766</td>\n",
              "      <td>-0.449126</td>\n",
              "      <td>1.442598</td>\n",
              "      <td>-0.371660</td>\n",
              "      <td>-0.865669</td>\n",
              "      <td>0.744683</td>\n",
              "      <td>0.053988</td>\n",
              "      <td>0.030429</td>\n",
              "      <td>-0.977189</td>\n",
              "      <td>0.523065</td>\n",
              "      <td>-0.458976</td>\n",
              "      <td>0.237078</td>\n",
              "    </tr>\n",
              "    <tr>\n",
              "      <th>...</th>\n",
              "      <td>...</td>\n",
              "      <td>...</td>\n",
              "      <td>...</td>\n",
              "      <td>...</td>\n",
              "      <td>...</td>\n",
              "      <td>...</td>\n",
              "      <td>...</td>\n",
              "      <td>...</td>\n",
              "      <td>...</td>\n",
              "      <td>...</td>\n",
              "      <td>...</td>\n",
              "      <td>...</td>\n",
              "      <td>...</td>\n",
              "      <td>...</td>\n",
              "      <td>...</td>\n",
              "      <td>...</td>\n",
              "      <td>...</td>\n",
              "    </tr>\n",
              "    <tr>\n",
              "      <th>115</th>\n",
              "      <td>1.553890</td>\n",
              "      <td>0.619000</td>\n",
              "      <td>0.349326</td>\n",
              "      <td>0.965868</td>\n",
              "      <td>0.921585</td>\n",
              "      <td>0.886939</td>\n",
              "      <td>0.564897</td>\n",
              "      <td>1.231217</td>\n",
              "      <td>0.009768</td>\n",
              "      <td>-0.181526</td>\n",
              "      <td>-0.339708</td>\n",
              "      <td>-0.616382</td>\n",
              "      <td>0.846383</td>\n",
              "      <td>-0.466724</td>\n",
              "      <td>1.338889</td>\n",
              "      <td>-0.570388</td>\n",
              "      <td>1.218379</td>\n",
              "    </tr>\n",
              "    <tr>\n",
              "      <th>116</th>\n",
              "      <td>1.570502</td>\n",
              "      <td>-1.247485</td>\n",
              "      <td>1.292493</td>\n",
              "      <td>-0.078009</td>\n",
              "      <td>-0.824515</td>\n",
              "      <td>-0.171409</td>\n",
              "      <td>-1.245864</td>\n",
              "      <td>1.043483</td>\n",
              "      <td>-0.763282</td>\n",
              "      <td>-1.380395</td>\n",
              "      <td>0.825449</td>\n",
              "      <td>0.820804</td>\n",
              "      <td>-0.825747</td>\n",
              "      <td>-1.341263</td>\n",
              "      <td>-0.693413</td>\n",
              "      <td>-0.218979</td>\n",
              "      <td>-0.798890</td>\n",
              "    </tr>\n",
              "    <tr>\n",
              "      <th>117</th>\n",
              "      <td>1.620336</td>\n",
              "      <td>-1.309953</td>\n",
              "      <td>2.293856</td>\n",
              "      <td>-1.904651</td>\n",
              "      <td>0.001228</td>\n",
              "      <td>-0.927123</td>\n",
              "      <td>-1.287624</td>\n",
              "      <td>1.218380</td>\n",
              "      <td>1.930128</td>\n",
              "      <td>0.401093</td>\n",
              "      <td>1.840615</td>\n",
              "      <td>-0.608161</td>\n",
              "      <td>-0.149425</td>\n",
              "      <td>-1.377095</td>\n",
              "      <td>-1.094234</td>\n",
              "      <td>-0.638539</td>\n",
              "      <td>-0.772328</td>\n",
              "    </tr>\n",
              "    <tr>\n",
              "      <th>118</th>\n",
              "      <td>1.636948</td>\n",
              "      <td>-2.113927</td>\n",
              "      <td>1.998282</td>\n",
              "      <td>-1.885055</td>\n",
              "      <td>-0.830504</td>\n",
              "      <td>-2.433654</td>\n",
              "      <td>-1.716163</td>\n",
              "      <td>-0.592356</td>\n",
              "      <td>0.681055</td>\n",
              "      <td>-1.237124</td>\n",
              "      <td>2.583999</td>\n",
              "      <td>0.243329</td>\n",
              "      <td>-0.829902</td>\n",
              "      <td>-1.396886</td>\n",
              "      <td>-1.431020</td>\n",
              "      <td>-0.632612</td>\n",
              "      <td>-1.106285</td>\n",
              "    </tr>\n",
              "    <tr>\n",
              "      <th>119</th>\n",
              "      <td>1.653559</td>\n",
              "      <td>-1.918046</td>\n",
              "      <td>2.872002</td>\n",
              "      <td>-1.641701</td>\n",
              "      <td>-0.233236</td>\n",
              "      <td>-1.848621</td>\n",
              "      <td>-1.630379</td>\n",
              "      <td>0.825899</td>\n",
              "      <td>1.157759</td>\n",
              "      <td>-1.124743</td>\n",
              "      <td>2.719319</td>\n",
              "      <td>-0.284995</td>\n",
              "      <td>-0.362338</td>\n",
              "      <td>-1.634443</td>\n",
              "      <td>-1.057027</td>\n",
              "      <td>-0.637673</td>\n",
              "      <td>-0.807725</td>\n",
              "    </tr>\n",
              "  </tbody>\n",
              "</table>\n",
              "<p>120 rows × 17 columns</p>\n",
              "</div>\n",
              "      <button class=\"colab-df-convert\" onclick=\"convertToInteractive('df-17ce46c0-8256-4a5b-9308-764a3d8c563f')\"\n",
              "              title=\"Convert this dataframe to an interactive table.\"\n",
              "              style=\"display:none;\">\n",
              "        \n",
              "  <svg xmlns=\"http://www.w3.org/2000/svg\" height=\"24px\"viewBox=\"0 0 24 24\"\n",
              "       width=\"24px\">\n",
              "    <path d=\"M0 0h24v24H0V0z\" fill=\"none\"/>\n",
              "    <path d=\"M18.56 5.44l.94 2.06.94-2.06 2.06-.94-2.06-.94-.94-2.06-.94 2.06-2.06.94zm-11 1L8.5 8.5l.94-2.06 2.06-.94-2.06-.94L8.5 2.5l-.94 2.06-2.06.94zm10 10l.94 2.06.94-2.06 2.06-.94-2.06-.94-.94-2.06-.94 2.06-2.06.94z\"/><path d=\"M17.41 7.96l-1.37-1.37c-.4-.4-.92-.59-1.43-.59-.52 0-1.04.2-1.43.59L10.3 9.45l-7.72 7.72c-.78.78-.78 2.05 0 2.83L4 21.41c.39.39.9.59 1.41.59.51 0 1.02-.2 1.41-.59l7.78-7.78 2.81-2.81c.8-.78.8-2.07 0-2.86zM5.41 20L4 18.59l7.72-7.72 1.47 1.35L5.41 20z\"/>\n",
              "  </svg>\n",
              "      </button>\n",
              "      \n",
              "  <style>\n",
              "    .colab-df-container {\n",
              "      display:flex;\n",
              "      flex-wrap:wrap;\n",
              "      gap: 12px;\n",
              "    }\n",
              "\n",
              "    .colab-df-convert {\n",
              "      background-color: #E8F0FE;\n",
              "      border: none;\n",
              "      border-radius: 50%;\n",
              "      cursor: pointer;\n",
              "      display: none;\n",
              "      fill: #1967D2;\n",
              "      height: 32px;\n",
              "      padding: 0 0 0 0;\n",
              "      width: 32px;\n",
              "    }\n",
              "\n",
              "    .colab-df-convert:hover {\n",
              "      background-color: #E2EBFA;\n",
              "      box-shadow: 0px 1px 2px rgba(60, 64, 67, 0.3), 0px 1px 3px 1px rgba(60, 64, 67, 0.15);\n",
              "      fill: #174EA6;\n",
              "    }\n",
              "\n",
              "    [theme=dark] .colab-df-convert {\n",
              "      background-color: #3B4455;\n",
              "      fill: #D2E3FC;\n",
              "    }\n",
              "\n",
              "    [theme=dark] .colab-df-convert:hover {\n",
              "      background-color: #434B5C;\n",
              "      box-shadow: 0px 1px 3px 1px rgba(0, 0, 0, 0.15);\n",
              "      filter: drop-shadow(0px 1px 2px rgba(0, 0, 0, 0.3));\n",
              "      fill: #FFFFFF;\n",
              "    }\n",
              "  </style>\n",
              "\n",
              "      <script>\n",
              "        const buttonEl =\n",
              "          document.querySelector('#df-17ce46c0-8256-4a5b-9308-764a3d8c563f button.colab-df-convert');\n",
              "        buttonEl.style.display =\n",
              "          google.colab.kernel.accessAllowed ? 'block' : 'none';\n",
              "\n",
              "        async function convertToInteractive(key) {\n",
              "          const element = document.querySelector('#df-17ce46c0-8256-4a5b-9308-764a3d8c563f');\n",
              "          const dataTable =\n",
              "            await google.colab.kernel.invokeFunction('convertToInteractive',\n",
              "                                                     [key], {});\n",
              "          if (!dataTable) return;\n",
              "\n",
              "          const docLinkHtml = 'Like what you see? Visit the ' +\n",
              "            '<a target=\"_blank\" href=https://colab.research.google.com/notebooks/data_table.ipynb>data table notebook</a>'\n",
              "            + ' to learn more about interactive tables.';\n",
              "          element.innerHTML = '';\n",
              "          dataTable['output_type'] = 'display_data';\n",
              "          await google.colab.output.renderOutput(dataTable, element);\n",
              "          const docLink = document.createElement('div');\n",
              "          docLink.innerHTML = docLinkHtml;\n",
              "          element.appendChild(docLink);\n",
              "        }\n",
              "      </script>\n",
              "    </div>\n",
              "  </div>\n",
              "  "
            ]
          },
          "metadata": {},
          "execution_count": 203
        }
      ]
    },
    {
      "cell_type": "markdown",
      "source": [
        ". Remove collinear features using the Pearson Correlation Coefficient\n",
        "threshold of 90% (10 points)"
      ],
      "metadata": {
        "id": "nwo80N3O4MNK"
      }
    },
    {
      "cell_type": "code",
      "source": [
        "corr_matrix = dataset.corr().abs()\n",
        "mask = np.triu(np.ones_like(corr_matrix, dtype=bool), k=1)\n",
        "correlated_columns = corr_matrix.where(mask).stack().reset_index()\n",
        "correlated_columns.columns = ['attribute1', 'attribute2', 'correlated_values']\n",
        "threshold = (correlated_columns['correlated_values'] > 0.9)\n",
        "dropped_features = correlated_columns[threshold & (correlated_columns['attribute2'] != 'target')]['attribute2']\n",
        "dropped_features = dropped_features.unique().tolist()\n",
        "dataset = dataset.drop(dropped_features, axis=1)\n",
        "dataset"
      ],
      "metadata": {
        "colab": {
          "base_uri": "https://localhost:8080/",
          "height": 423
        },
        "id": "gfuMH-Cq9kXe",
        "outputId": "0a643807-a633-4d0f-8844-82a6b3be9e3b"
      },
      "execution_count": 204,
      "outputs": [
        {
          "output_type": "execute_result",
          "data": {
            "text/plain": [
              "        Depth       TOC   Calcite  Porosity     Swirr    Quartz   Mineral  \\\n",
              "0   -1.857246  0.202326 -0.156255  1.853976 -0.262013  1.662856  1.544004   \n",
              "1   -1.839194 -0.574062 -0.497105  0.273510 -1.314004  0.802985  0.348303   \n",
              "2   -1.802326 -0.067173 -0.681983  1.226984 -0.869287  0.517235 -0.116518   \n",
              "3   -1.749272  0.111704  0.267917  1.800895 -0.211025  0.965822  1.234741   \n",
              "4   -1.732236 -0.285977  1.432004  0.728408  0.186401  0.091766  1.442598   \n",
              "..        ...       ...       ...       ...       ...       ...       ...   \n",
              "115  1.553890  0.619000  0.349326  0.965868  0.921585  0.886939  1.231217   \n",
              "116  1.570502 -1.247485  1.292493 -0.078009 -0.824515 -0.171409  1.043483   \n",
              "117  1.620336 -1.309953  2.293856 -1.904651  0.001228 -0.927123  1.218380   \n",
              "118  1.636948 -2.113927  1.998282 -1.885055 -0.830504 -2.433654 -0.592356   \n",
              "119  1.653559 -1.918046  2.872002 -1.641701 -0.233236 -1.848621  0.825899   \n",
              "\n",
              "      Wat_Per   TOC_Per        QC      TOC3       PS3  \n",
              "0   -1.048218 -1.034877 -1.090079 -0.804559  2.539647  \n",
              "1   -1.284195 -0.868107 -0.761958 -0.745316  1.940038  \n",
              "2   -1.245107 -0.947031 -0.692924 -0.229293  2.890863  \n",
              "3   -1.004959 -1.081058 -0.432760 -0.747993  2.072139  \n",
              "4   -0.371660 -0.865669  0.744683 -0.977189 -0.458976  \n",
              "..        ...       ...       ...       ...       ...  \n",
              "115  0.009768 -0.181526 -0.339708 -0.466724 -0.570388  \n",
              "116 -0.763282 -1.380395  0.825449 -1.341263 -0.218979  \n",
              "117  1.930128  0.401093  1.840615 -1.377095 -0.638539  \n",
              "118  0.681055 -1.237124  2.583999 -1.396886 -0.632612  \n",
              "119  1.157759 -1.124743  2.719319 -1.634443 -0.637673  \n",
              "\n",
              "[120 rows x 12 columns]"
            ],
            "text/html": [
              "\n",
              "  <div id=\"df-dffbfa8f-76dc-4132-99fe-516ae7ac99df\">\n",
              "    <div class=\"colab-df-container\">\n",
              "      <div>\n",
              "<style scoped>\n",
              "    .dataframe tbody tr th:only-of-type {\n",
              "        vertical-align: middle;\n",
              "    }\n",
              "\n",
              "    .dataframe tbody tr th {\n",
              "        vertical-align: top;\n",
              "    }\n",
              "\n",
              "    .dataframe thead th {\n",
              "        text-align: right;\n",
              "    }\n",
              "</style>\n",
              "<table border=\"1\" class=\"dataframe\">\n",
              "  <thead>\n",
              "    <tr style=\"text-align: right;\">\n",
              "      <th></th>\n",
              "      <th>Depth</th>\n",
              "      <th>TOC</th>\n",
              "      <th>Calcite</th>\n",
              "      <th>Porosity</th>\n",
              "      <th>Swirr</th>\n",
              "      <th>Quartz</th>\n",
              "      <th>Mineral</th>\n",
              "      <th>Wat_Per</th>\n",
              "      <th>TOC_Per</th>\n",
              "      <th>QC</th>\n",
              "      <th>TOC3</th>\n",
              "      <th>PS3</th>\n",
              "    </tr>\n",
              "  </thead>\n",
              "  <tbody>\n",
              "    <tr>\n",
              "      <th>0</th>\n",
              "      <td>-1.857246</td>\n",
              "      <td>0.202326</td>\n",
              "      <td>-0.156255</td>\n",
              "      <td>1.853976</td>\n",
              "      <td>-0.262013</td>\n",
              "      <td>1.662856</td>\n",
              "      <td>1.544004</td>\n",
              "      <td>-1.048218</td>\n",
              "      <td>-1.034877</td>\n",
              "      <td>-1.090079</td>\n",
              "      <td>-0.804559</td>\n",
              "      <td>2.539647</td>\n",
              "    </tr>\n",
              "    <tr>\n",
              "      <th>1</th>\n",
              "      <td>-1.839194</td>\n",
              "      <td>-0.574062</td>\n",
              "      <td>-0.497105</td>\n",
              "      <td>0.273510</td>\n",
              "      <td>-1.314004</td>\n",
              "      <td>0.802985</td>\n",
              "      <td>0.348303</td>\n",
              "      <td>-1.284195</td>\n",
              "      <td>-0.868107</td>\n",
              "      <td>-0.761958</td>\n",
              "      <td>-0.745316</td>\n",
              "      <td>1.940038</td>\n",
              "    </tr>\n",
              "    <tr>\n",
              "      <th>2</th>\n",
              "      <td>-1.802326</td>\n",
              "      <td>-0.067173</td>\n",
              "      <td>-0.681983</td>\n",
              "      <td>1.226984</td>\n",
              "      <td>-0.869287</td>\n",
              "      <td>0.517235</td>\n",
              "      <td>-0.116518</td>\n",
              "      <td>-1.245107</td>\n",
              "      <td>-0.947031</td>\n",
              "      <td>-0.692924</td>\n",
              "      <td>-0.229293</td>\n",
              "      <td>2.890863</td>\n",
              "    </tr>\n",
              "    <tr>\n",
              "      <th>3</th>\n",
              "      <td>-1.749272</td>\n",
              "      <td>0.111704</td>\n",
              "      <td>0.267917</td>\n",
              "      <td>1.800895</td>\n",
              "      <td>-0.211025</td>\n",
              "      <td>0.965822</td>\n",
              "      <td>1.234741</td>\n",
              "      <td>-1.004959</td>\n",
              "      <td>-1.081058</td>\n",
              "      <td>-0.432760</td>\n",
              "      <td>-0.747993</td>\n",
              "      <td>2.072139</td>\n",
              "    </tr>\n",
              "    <tr>\n",
              "      <th>4</th>\n",
              "      <td>-1.732236</td>\n",
              "      <td>-0.285977</td>\n",
              "      <td>1.432004</td>\n",
              "      <td>0.728408</td>\n",
              "      <td>0.186401</td>\n",
              "      <td>0.091766</td>\n",
              "      <td>1.442598</td>\n",
              "      <td>-0.371660</td>\n",
              "      <td>-0.865669</td>\n",
              "      <td>0.744683</td>\n",
              "      <td>-0.977189</td>\n",
              "      <td>-0.458976</td>\n",
              "    </tr>\n",
              "    <tr>\n",
              "      <th>...</th>\n",
              "      <td>...</td>\n",
              "      <td>...</td>\n",
              "      <td>...</td>\n",
              "      <td>...</td>\n",
              "      <td>...</td>\n",
              "      <td>...</td>\n",
              "      <td>...</td>\n",
              "      <td>...</td>\n",
              "      <td>...</td>\n",
              "      <td>...</td>\n",
              "      <td>...</td>\n",
              "      <td>...</td>\n",
              "    </tr>\n",
              "    <tr>\n",
              "      <th>115</th>\n",
              "      <td>1.553890</td>\n",
              "      <td>0.619000</td>\n",
              "      <td>0.349326</td>\n",
              "      <td>0.965868</td>\n",
              "      <td>0.921585</td>\n",
              "      <td>0.886939</td>\n",
              "      <td>1.231217</td>\n",
              "      <td>0.009768</td>\n",
              "      <td>-0.181526</td>\n",
              "      <td>-0.339708</td>\n",
              "      <td>-0.466724</td>\n",
              "      <td>-0.570388</td>\n",
              "    </tr>\n",
              "    <tr>\n",
              "      <th>116</th>\n",
              "      <td>1.570502</td>\n",
              "      <td>-1.247485</td>\n",
              "      <td>1.292493</td>\n",
              "      <td>-0.078009</td>\n",
              "      <td>-0.824515</td>\n",
              "      <td>-0.171409</td>\n",
              "      <td>1.043483</td>\n",
              "      <td>-0.763282</td>\n",
              "      <td>-1.380395</td>\n",
              "      <td>0.825449</td>\n",
              "      <td>-1.341263</td>\n",
              "      <td>-0.218979</td>\n",
              "    </tr>\n",
              "    <tr>\n",
              "      <th>117</th>\n",
              "      <td>1.620336</td>\n",
              "      <td>-1.309953</td>\n",
              "      <td>2.293856</td>\n",
              "      <td>-1.904651</td>\n",
              "      <td>0.001228</td>\n",
              "      <td>-0.927123</td>\n",
              "      <td>1.218380</td>\n",
              "      <td>1.930128</td>\n",
              "      <td>0.401093</td>\n",
              "      <td>1.840615</td>\n",
              "      <td>-1.377095</td>\n",
              "      <td>-0.638539</td>\n",
              "    </tr>\n",
              "    <tr>\n",
              "      <th>118</th>\n",
              "      <td>1.636948</td>\n",
              "      <td>-2.113927</td>\n",
              "      <td>1.998282</td>\n",
              "      <td>-1.885055</td>\n",
              "      <td>-0.830504</td>\n",
              "      <td>-2.433654</td>\n",
              "      <td>-0.592356</td>\n",
              "      <td>0.681055</td>\n",
              "      <td>-1.237124</td>\n",
              "      <td>2.583999</td>\n",
              "      <td>-1.396886</td>\n",
              "      <td>-0.632612</td>\n",
              "    </tr>\n",
              "    <tr>\n",
              "      <th>119</th>\n",
              "      <td>1.653559</td>\n",
              "      <td>-1.918046</td>\n",
              "      <td>2.872002</td>\n",
              "      <td>-1.641701</td>\n",
              "      <td>-0.233236</td>\n",
              "      <td>-1.848621</td>\n",
              "      <td>0.825899</td>\n",
              "      <td>1.157759</td>\n",
              "      <td>-1.124743</td>\n",
              "      <td>2.719319</td>\n",
              "      <td>-1.634443</td>\n",
              "      <td>-0.637673</td>\n",
              "    </tr>\n",
              "  </tbody>\n",
              "</table>\n",
              "<p>120 rows × 12 columns</p>\n",
              "</div>\n",
              "      <button class=\"colab-df-convert\" onclick=\"convertToInteractive('df-dffbfa8f-76dc-4132-99fe-516ae7ac99df')\"\n",
              "              title=\"Convert this dataframe to an interactive table.\"\n",
              "              style=\"display:none;\">\n",
              "        \n",
              "  <svg xmlns=\"http://www.w3.org/2000/svg\" height=\"24px\"viewBox=\"0 0 24 24\"\n",
              "       width=\"24px\">\n",
              "    <path d=\"M0 0h24v24H0V0z\" fill=\"none\"/>\n",
              "    <path d=\"M18.56 5.44l.94 2.06.94-2.06 2.06-.94-2.06-.94-.94-2.06-.94 2.06-2.06.94zm-11 1L8.5 8.5l.94-2.06 2.06-.94-2.06-.94L8.5 2.5l-.94 2.06-2.06.94zm10 10l.94 2.06.94-2.06 2.06-.94-2.06-.94-.94-2.06-.94 2.06-2.06.94z\"/><path d=\"M17.41 7.96l-1.37-1.37c-.4-.4-.92-.59-1.43-.59-.52 0-1.04.2-1.43.59L10.3 9.45l-7.72 7.72c-.78.78-.78 2.05 0 2.83L4 21.41c.39.39.9.59 1.41.59.51 0 1.02-.2 1.41-.59l7.78-7.78 2.81-2.81c.8-.78.8-2.07 0-2.86zM5.41 20L4 18.59l7.72-7.72 1.47 1.35L5.41 20z\"/>\n",
              "  </svg>\n",
              "      </button>\n",
              "      \n",
              "  <style>\n",
              "    .colab-df-container {\n",
              "      display:flex;\n",
              "      flex-wrap:wrap;\n",
              "      gap: 12px;\n",
              "    }\n",
              "\n",
              "    .colab-df-convert {\n",
              "      background-color: #E8F0FE;\n",
              "      border: none;\n",
              "      border-radius: 50%;\n",
              "      cursor: pointer;\n",
              "      display: none;\n",
              "      fill: #1967D2;\n",
              "      height: 32px;\n",
              "      padding: 0 0 0 0;\n",
              "      width: 32px;\n",
              "    }\n",
              "\n",
              "    .colab-df-convert:hover {\n",
              "      background-color: #E2EBFA;\n",
              "      box-shadow: 0px 1px 2px rgba(60, 64, 67, 0.3), 0px 1px 3px 1px rgba(60, 64, 67, 0.15);\n",
              "      fill: #174EA6;\n",
              "    }\n",
              "\n",
              "    [theme=dark] .colab-df-convert {\n",
              "      background-color: #3B4455;\n",
              "      fill: #D2E3FC;\n",
              "    }\n",
              "\n",
              "    [theme=dark] .colab-df-convert:hover {\n",
              "      background-color: #434B5C;\n",
              "      box-shadow: 0px 1px 3px 1px rgba(0, 0, 0, 0.15);\n",
              "      filter: drop-shadow(0px 1px 2px rgba(0, 0, 0, 0.3));\n",
              "      fill: #FFFFFF;\n",
              "    }\n",
              "  </style>\n",
              "\n",
              "      <script>\n",
              "        const buttonEl =\n",
              "          document.querySelector('#df-dffbfa8f-76dc-4132-99fe-516ae7ac99df button.colab-df-convert');\n",
              "        buttonEl.style.display =\n",
              "          google.colab.kernel.accessAllowed ? 'block' : 'none';\n",
              "\n",
              "        async function convertToInteractive(key) {\n",
              "          const element = document.querySelector('#df-dffbfa8f-76dc-4132-99fe-516ae7ac99df');\n",
              "          const dataTable =\n",
              "            await google.colab.kernel.invokeFunction('convertToInteractive',\n",
              "                                                     [key], {});\n",
              "          if (!dataTable) return;\n",
              "\n",
              "          const docLinkHtml = 'Like what you see? Visit the ' +\n",
              "            '<a target=\"_blank\" href=https://colab.research.google.com/notebooks/data_table.ipynb>data table notebook</a>'\n",
              "            + ' to learn more about interactive tables.';\n",
              "          element.innerHTML = '';\n",
              "          dataTable['output_type'] = 'display_data';\n",
              "          await google.colab.output.renderOutput(dataTable, element);\n",
              "          const docLink = document.createElement('div');\n",
              "          docLink.innerHTML = docLinkHtml;\n",
              "          element.appendChild(docLink);\n",
              "        }\n",
              "      </script>\n",
              "    </div>\n",
              "  </div>\n",
              "  "
            ]
          },
          "metadata": {},
          "execution_count": 204
        }
      ]
    },
    {
      "cell_type": "code",
      "source": [
        "X = dataset.drop('Swirr', axis=1)\n",
        "Y = dataset.Swirr"
      ],
      "metadata": {
        "id": "6QD4zT12IW6Q"
      },
      "execution_count": 205,
      "outputs": []
    },
    {
      "cell_type": "markdown",
      "source": [
        "# Without Applying PCA"
      ],
      "metadata": {
        "id": "y639_bIyeFLK"
      }
    },
    {
      "cell_type": "code",
      "source": [
        "X_columns = ['Depth', 'TOC', 'Calcite', 'Porosity', 'Quartz', 'Mineral', 'Wat_Per',\n",
        "       'TOC_Per', 'QC', 'TOC3', 'PS3']\n",
        "for i in X_columns:\n",
        "  X[i] = X[i].replace(np.NaN, X[i].mean())"
      ],
      "metadata": {
        "id": "cF30JXBafpgE"
      },
      "execution_count": 215,
      "outputs": []
    },
    {
      "cell_type": "code",
      "source": [
        "from sklearn.model_selection import train_test_split\n",
        "X_train, X_test, y_train, y_test = train_test_split(X, Y, random_state=0, test_size=0.2)"
      ],
      "metadata": {
        "id": "cq3Y-MeFJ6Gq"
      },
      "execution_count": 216,
      "outputs": []
    },
    {
      "cell_type": "markdown",
      "source": [
        "SVR with RBF kernel"
      ],
      "metadata": {
        "id": "5Jpp86zeegNZ"
      }
    },
    {
      "cell_type": "code",
      "source": [
        "from sklearn.svm import SVR\n",
        "SVR_RBF = SVR(kernel='rbf')\n",
        "SVR_RBF = SVR_RBF.fit(X_train, y_train)\n",
        "print(\"SVR with RBF kernel train score: \", SVR_RBF.score(X_train, y_train))\n",
        "print(\"SVR with RBF kernel test score: \", SVR_RBF.score(X_test, y_test))"
      ],
      "metadata": {
        "colab": {
          "base_uri": "https://localhost:8080/"
        },
        "outputId": "61e81121-e595-413c-bd9c-b34f88c5dcee",
        "id": "rAUC_HPAegNb"
      },
      "execution_count": 217,
      "outputs": [
        {
          "output_type": "stream",
          "name": "stdout",
          "text": [
            "SVR with RBF kernel train score:  0.9854125150622807\n",
            "SVR with RBF kernel test score:  0.9618094594242808\n"
          ]
        }
      ]
    },
    {
      "cell_type": "code",
      "source": [
        "from sklearn.model_selection import train_test_split\n",
        "X_train, X_test, y_train, y_test = train_test_split(X, Y, random_state=0, test_size=0.2)"
      ],
      "metadata": {
        "id": "1AKkA5h-eMkr"
      },
      "execution_count": 218,
      "outputs": []
    },
    {
      "cell_type": "markdown",
      "source": [
        "Develop Different Regression Methods to Predict Swirr."
      ],
      "metadata": {
        "id": "8Wx_pUuneVU6"
      }
    },
    {
      "cell_type": "code",
      "source": [],
      "metadata": {
        "id": "SDqwiJR8eUbl"
      },
      "execution_count": null,
      "outputs": []
    },
    {
      "cell_type": "markdown",
      "source": [
        "SVR with Polynomial Kernel of degree 2"
      ],
      "metadata": {
        "id": "rUzehSwpfUOW"
      }
    },
    {
      "cell_type": "code",
      "source": [
        "SVR_poly = SVR(kernel='poly', degree=2)\n",
        "SVR_poly = SVR_poly.fit(X_train, y_train)\n",
        "print(\"SVR with RBF kernel train score: \", SVR_poly.score(X_train, y_train))\n",
        "print(\"SVR with RBF kernel test score: \",SVR_poly.score(X_test, y_test))"
      ],
      "metadata": {
        "colab": {
          "base_uri": "https://localhost:8080/"
        },
        "outputId": "a426a46a-e0b6-49b0-8ee6-bbeeb6e83348",
        "id": "BolJyUS9fUOt"
      },
      "execution_count": 219,
      "outputs": [
        {
          "output_type": "stream",
          "name": "stdout",
          "text": [
            "SVR with RBF kernel train score:  0.45115574924915247\n",
            "SVR with RBF kernel test score:  0.14753100664091756\n"
          ]
        }
      ]
    },
    {
      "cell_type": "markdown",
      "source": [
        "Gradient Boosting Regressor"
      ],
      "metadata": {
        "id": "F97m65bjfUOu"
      }
    },
    {
      "cell_type": "code",
      "source": [
        "from sklearn.ensemble import GradientBoostingRegressor\n",
        "GBR = GradientBoostingRegressor()\n",
        "GBR = GBR.fit(X_train, y_train)\n",
        "print(\"GBR train score:\", GBR.score(X_train, y_train))\n",
        "print(\"GBR test score:\", GBR.score(X_test, y_test))"
      ],
      "metadata": {
        "colab": {
          "base_uri": "https://localhost:8080/"
        },
        "outputId": "621312df-511c-41a1-c0b7-b8a5c710ffb0",
        "id": "XvG3LKXGfUOu"
      },
      "execution_count": 220,
      "outputs": [
        {
          "output_type": "stream",
          "name": "stdout",
          "text": [
            "GBR train score: 0.9997964219019623\n",
            "GBR test score: 0.9213496532707647\n"
          ]
        }
      ]
    },
    {
      "cell_type": "markdown",
      "source": [
        "Random Forest Regressor"
      ],
      "metadata": {
        "id": "B4vepnzAfUOu"
      }
    },
    {
      "cell_type": "code",
      "source": [
        "from sklearn.ensemble import RandomForestRegressor\n",
        "RFR = RandomForestRegressor()\n",
        "RFR = RFR.fit(X_train, y_train)\n",
        "print(\"GBR train score:\", RFR.score(X_train, y_train))\n",
        "print(\"GBR test score:\", RFR.score(X_test, y_test))"
      ],
      "metadata": {
        "colab": {
          "base_uri": "https://localhost:8080/"
        },
        "outputId": "e0ff7a90-47ad-4fa7-98e0-446e34c03582",
        "id": "kbLFtaEcfUOu"
      },
      "execution_count": 221,
      "outputs": [
        {
          "output_type": "stream",
          "name": "stdout",
          "text": [
            "GBR train score: 0.9894224635048883\n",
            "GBR test score: 0.8812833244767481\n"
          ]
        }
      ]
    },
    {
      "cell_type": "markdown",
      "source": [
        "Hyperparameter optimization of Support Vector Regressor with RBF"
      ],
      "metadata": {
        "id": "0Oqj1qeyfUOv"
      }
    },
    {
      "cell_type": "code",
      "source": [
        "from sklearn.model_selection import GridSearchCV\n",
        "from sklearn.metrics import r2_score\n",
        "from sklearn.metrics import mean_squared_error\n",
        "parameters_for_optimization = {'C': [0.1,1, 10], 'gamma': [1,0.1,0.01,],'kernel': ['rbf']}\n",
        "svr_rbf = GridSearchCV(SVR(),parameters_for_optimization,refit=True,verbose=2, scoring='neg_mean_squared_error')\n",
        "#train the model\n",
        "svr_rbf.fit(X_train,y_train)\n",
        "#make Predictions\n",
        "grid_preditions = svr_rbf.predict(X_test)\n",
        "Mean_sqaure_error_svr_rbf = mean_squared_error(grid_preditions, y_test)\n",
        "Mean_absolute_error_svr_rbf = mean_absolute_error(grid_preditions, y_test)\n",
        "R2_SVR_RBF = r2_score(grid_preditions, y_test)"
      ],
      "metadata": {
        "colab": {
          "base_uri": "https://localhost:8080/"
        },
        "outputId": "49296722-c1dd-42ee-f518-2495183af5d6",
        "id": "IaFcLEFFfUOv"
      },
      "execution_count": 222,
      "outputs": [
        {
          "output_type": "stream",
          "name": "stdout",
          "text": [
            "Fitting 5 folds for each of 9 candidates, totalling 45 fits\n",
            "[CV] END .........................C=0.1, gamma=1, kernel=rbf; total time=   0.0s\n",
            "[CV] END .........................C=0.1, gamma=1, kernel=rbf; total time=   0.0s\n",
            "[CV] END .........................C=0.1, gamma=1, kernel=rbf; total time=   0.0s\n",
            "[CV] END .........................C=0.1, gamma=1, kernel=rbf; total time=   0.0s\n",
            "[CV] END .........................C=0.1, gamma=1, kernel=rbf; total time=   0.0s\n",
            "[CV] END .......................C=0.1, gamma=0.1, kernel=rbf; total time=   0.0s\n",
            "[CV] END .......................C=0.1, gamma=0.1, kernel=rbf; total time=   0.0s\n",
            "[CV] END .......................C=0.1, gamma=0.1, kernel=rbf; total time=   0.0s\n",
            "[CV] END .......................C=0.1, gamma=0.1, kernel=rbf; total time=   0.0s\n",
            "[CV] END .......................C=0.1, gamma=0.1, kernel=rbf; total time=   0.0s\n",
            "[CV] END ......................C=0.1, gamma=0.01, kernel=rbf; total time=   0.0s\n",
            "[CV] END ......................C=0.1, gamma=0.01, kernel=rbf; total time=   0.0s\n",
            "[CV] END ......................C=0.1, gamma=0.01, kernel=rbf; total time=   0.0s\n",
            "[CV] END ......................C=0.1, gamma=0.01, kernel=rbf; total time=   0.0s\n",
            "[CV] END ......................C=0.1, gamma=0.01, kernel=rbf; total time=   0.0s\n",
            "[CV] END ...........................C=1, gamma=1, kernel=rbf; total time=   0.0s\n",
            "[CV] END ...........................C=1, gamma=1, kernel=rbf; total time=   0.0s\n",
            "[CV] END ...........................C=1, gamma=1, kernel=rbf; total time=   0.0s\n",
            "[CV] END ...........................C=1, gamma=1, kernel=rbf; total time=   0.0s\n",
            "[CV] END ...........................C=1, gamma=1, kernel=rbf; total time=   0.0s\n",
            "[CV] END .........................C=1, gamma=0.1, kernel=rbf; total time=   0.0s\n",
            "[CV] END .........................C=1, gamma=0.1, kernel=rbf; total time=   0.0s\n",
            "[CV] END .........................C=1, gamma=0.1, kernel=rbf; total time=   0.0s\n",
            "[CV] END .........................C=1, gamma=0.1, kernel=rbf; total time=   0.0s\n",
            "[CV] END .........................C=1, gamma=0.1, kernel=rbf; total time=   0.0s\n",
            "[CV] END ........................C=1, gamma=0.01, kernel=rbf; total time=   0.0s\n",
            "[CV] END ........................C=1, gamma=0.01, kernel=rbf; total time=   0.0s\n",
            "[CV] END ........................C=1, gamma=0.01, kernel=rbf; total time=   0.0s\n",
            "[CV] END ........................C=1, gamma=0.01, kernel=rbf; total time=   0.0s\n",
            "[CV] END ........................C=1, gamma=0.01, kernel=rbf; total time=   0.0s\n",
            "[CV] END ..........................C=10, gamma=1, kernel=rbf; total time=   0.0s\n",
            "[CV] END ..........................C=10, gamma=1, kernel=rbf; total time=   0.0s\n",
            "[CV] END ..........................C=10, gamma=1, kernel=rbf; total time=   0.0s\n",
            "[CV] END ..........................C=10, gamma=1, kernel=rbf; total time=   0.0s\n",
            "[CV] END ..........................C=10, gamma=1, kernel=rbf; total time=   0.0s\n",
            "[CV] END ........................C=10, gamma=0.1, kernel=rbf; total time=   0.0s\n",
            "[CV] END ........................C=10, gamma=0.1, kernel=rbf; total time=   0.0s\n",
            "[CV] END ........................C=10, gamma=0.1, kernel=rbf; total time=   0.0s\n",
            "[CV] END ........................C=10, gamma=0.1, kernel=rbf; total time=   0.0s\n",
            "[CV] END ........................C=10, gamma=0.1, kernel=rbf; total time=   0.0s\n",
            "[CV] END .......................C=10, gamma=0.01, kernel=rbf; total time=   0.0s\n",
            "[CV] END .......................C=10, gamma=0.01, kernel=rbf; total time=   0.0s\n",
            "[CV] END .......................C=10, gamma=0.01, kernel=rbf; total time=   0.0s\n",
            "[CV] END .......................C=10, gamma=0.01, kernel=rbf; total time=   0.0s\n",
            "[CV] END .......................C=10, gamma=0.01, kernel=rbf; total time=   0.0s\n"
          ]
        }
      ]
    },
    {
      "cell_type": "code",
      "source": [
        "print(\"Best Parameters for SVR RBF model: \", svr_rbf.best_params_)\n",
        "print(\"Mean Square Error of SVR RBF : \", Mean_sqaure_error_svr_rbf)\n",
        "print(\"Mean Absoute Error of SVR RBF : \", Mean_absolute_error_svr_rbf)"
      ],
      "metadata": {
        "colab": {
          "base_uri": "https://localhost:8080/"
        },
        "outputId": "a275d0db-722d-4ba3-9710-e39801242448",
        "id": "lYRh9Td5fUOv"
      },
      "execution_count": 223,
      "outputs": [
        {
          "output_type": "stream",
          "name": "stdout",
          "text": [
            "Best Parameters for SVR RBF model:  {'C': 10, 'gamma': 0.01, 'kernel': 'rbf'}\n",
            "Mean Square Error of SVR RBF :  0.006813007973953002\n",
            "Mean Absoute Error of SVR RBF :  0.06629889207034335\n"
          ]
        }
      ]
    },
    {
      "cell_type": "markdown",
      "source": [
        "Hyperparameter optimization of Support Vector Regressor with Poly"
      ],
      "metadata": {
        "id": "c4dYHKxlfUOw"
      }
    },
    {
      "cell_type": "code",
      "source": [
        "from sklearn.model_selection import GridSearchCV\n",
        "from sklearn.metrics import mean_squared_error\n",
        "parameters_for_optimizations = {'C': [0.1,1, 10], 'gamma': [1,0.1,0.01,],'kernel': ['poly']}\n",
        "svr_poly = GridSearchCV(SVR(),parameters_for_optimizations,refit=True,verbose=2, scoring='neg_mean_squared_error')\n",
        "#train the model\n",
        "svr_poly.fit(X_train,y_train)\n",
        "#make Predictions\n",
        "grid_preditions_poly = svr_poly.predict(X_test)\n",
        "Mean_sqaure_error_svr_poly = mean_squared_error(grid_preditions_poly, y_test)\n",
        "Mean_absolute_error_svr_poly = mean_absolute_error(grid_preditions_poly, y_test)\n",
        "R2_SVR_poly = r2_score(grid_preditions_poly, y_test)"
      ],
      "metadata": {
        "colab": {
          "base_uri": "https://localhost:8080/"
        },
        "outputId": "be7c0e46-91e7-424c-8b03-e4e8110f844b",
        "id": "X7Xx6p4yfUOw"
      },
      "execution_count": 224,
      "outputs": [
        {
          "output_type": "stream",
          "name": "stdout",
          "text": [
            "Fitting 5 folds for each of 9 candidates, totalling 45 fits\n",
            "[CV] END ........................C=0.1, gamma=1, kernel=poly; total time=   0.0s\n",
            "[CV] END ........................C=0.1, gamma=1, kernel=poly; total time=   0.0s\n",
            "[CV] END ........................C=0.1, gamma=1, kernel=poly; total time=   0.0s\n",
            "[CV] END ........................C=0.1, gamma=1, kernel=poly; total time=   0.0s\n",
            "[CV] END ........................C=0.1, gamma=1, kernel=poly; total time=   0.0s\n",
            "[CV] END ......................C=0.1, gamma=0.1, kernel=poly; total time=   0.0s\n",
            "[CV] END ......................C=0.1, gamma=0.1, kernel=poly; total time=   0.0s\n",
            "[CV] END ......................C=0.1, gamma=0.1, kernel=poly; total time=   0.0s\n",
            "[CV] END ......................C=0.1, gamma=0.1, kernel=poly; total time=   0.0s\n",
            "[CV] END ......................C=0.1, gamma=0.1, kernel=poly; total time=   0.0s\n",
            "[CV] END .....................C=0.1, gamma=0.01, kernel=poly; total time=   0.0s\n",
            "[CV] END .....................C=0.1, gamma=0.01, kernel=poly; total time=   0.0s\n",
            "[CV] END .....................C=0.1, gamma=0.01, kernel=poly; total time=   0.0s\n",
            "[CV] END .....................C=0.1, gamma=0.01, kernel=poly; total time=   0.0s\n",
            "[CV] END .....................C=0.1, gamma=0.01, kernel=poly; total time=   0.0s\n",
            "[CV] END ..........................C=1, gamma=1, kernel=poly; total time=   0.1s\n",
            "[CV] END ..........................C=1, gamma=1, kernel=poly; total time=   0.0s\n",
            "[CV] END ..........................C=1, gamma=1, kernel=poly; total time=   0.1s\n",
            "[CV] END ..........................C=1, gamma=1, kernel=poly; total time=   0.1s\n",
            "[CV] END ..........................C=1, gamma=1, kernel=poly; total time=   0.0s\n",
            "[CV] END ........................C=1, gamma=0.1, kernel=poly; total time=   0.0s\n",
            "[CV] END ........................C=1, gamma=0.1, kernel=poly; total time=   0.0s\n",
            "[CV] END ........................C=1, gamma=0.1, kernel=poly; total time=   0.0s\n",
            "[CV] END ........................C=1, gamma=0.1, kernel=poly; total time=   0.0s\n",
            "[CV] END ........................C=1, gamma=0.1, kernel=poly; total time=   0.0s\n",
            "[CV] END .......................C=1, gamma=0.01, kernel=poly; total time=   0.0s\n",
            "[CV] END .......................C=1, gamma=0.01, kernel=poly; total time=   0.0s\n",
            "[CV] END .......................C=1, gamma=0.01, kernel=poly; total time=   0.0s\n",
            "[CV] END .......................C=1, gamma=0.01, kernel=poly; total time=   0.0s\n",
            "[CV] END .......................C=1, gamma=0.01, kernel=poly; total time=   0.0s\n",
            "[CV] END .........................C=10, gamma=1, kernel=poly; total time=   0.1s\n",
            "[CV] END .........................C=10, gamma=1, kernel=poly; total time=   0.0s\n",
            "[CV] END .........................C=10, gamma=1, kernel=poly; total time=   0.1s\n",
            "[CV] END .........................C=10, gamma=1, kernel=poly; total time=   0.1s\n",
            "[CV] END .........................C=10, gamma=1, kernel=poly; total time=   0.1s\n",
            "[CV] END .......................C=10, gamma=0.1, kernel=poly; total time=   0.0s\n",
            "[CV] END .......................C=10, gamma=0.1, kernel=poly; total time=   0.0s\n",
            "[CV] END .......................C=10, gamma=0.1, kernel=poly; total time=   0.0s\n",
            "[CV] END .......................C=10, gamma=0.1, kernel=poly; total time=   0.0s\n",
            "[CV] END .......................C=10, gamma=0.1, kernel=poly; total time=   0.0s\n",
            "[CV] END ......................C=10, gamma=0.01, kernel=poly; total time=   0.0s\n",
            "[CV] END ......................C=10, gamma=0.01, kernel=poly; total time=   0.0s\n",
            "[CV] END ......................C=10, gamma=0.01, kernel=poly; total time=   0.0s\n",
            "[CV] END ......................C=10, gamma=0.01, kernel=poly; total time=   0.0s\n",
            "[CV] END ......................C=10, gamma=0.01, kernel=poly; total time=   0.0s\n"
          ]
        }
      ]
    },
    {
      "cell_type": "code",
      "source": [
        "print(\"Best Parameters for SVR RBF model: \", svr_poly.best_params_)\n",
        "print(\"Mean Square Error of SVR RBF : \", Mean_sqaure_error_svr_poly)"
      ],
      "metadata": {
        "colab": {
          "base_uri": "https://localhost:8080/"
        },
        "outputId": "0a59cab2-5346-40a3-fd3a-00d089f7e9d1",
        "id": "1jv3BN_FfUOw"
      },
      "execution_count": 225,
      "outputs": [
        {
          "output_type": "stream",
          "name": "stdout",
          "text": [
            "Best Parameters for SVR RBF model:  {'C': 1, 'gamma': 0.1, 'kernel': 'poly'}\n",
            "Mean Square Error of SVR RBF :  0.30535216860545605\n"
          ]
        }
      ]
    },
    {
      "cell_type": "markdown",
      "source": [
        "Hyperparameter Optimization for Gradient Boosting Regression"
      ],
      "metadata": {
        "id": "ac7WIi4NfUOw"
      }
    },
    {
      "cell_type": "code",
      "source": [
        "parameters_for_GBR = {\n",
        "    \"n_estimators\" : [5, 50,100],\n",
        "    \"max_depth\" : [1,3,5],\n",
        "    \"learning_rate\" : [0.001, 0.01, 0.1]\n",
        "}\n",
        "GRB_optimization = GridSearchCV(GradientBoostingRegressor(),parameters_for_GBR,  scoring='neg_mean_squared_error')\n",
        "#train the model\n",
        "GRB_optimization.fit(X_train,y_train)\n",
        "#make Predictions\n",
        "GRB_grid_preditions = GRB_optimization.predict(X_test)\n",
        "Mean_sqaure_error_GRB = mean_squared_error(GRB_grid_preditions, y_test)\n",
        "Mean_absolute_error_GRB= mean_absolute_error(GRB_grid_preditions, y_test)\n",
        "R2_SVR_GBR = r2_score(GRB_grid_preditions, y_test)"
      ],
      "metadata": {
        "id": "T6hLJvi8fUOx"
      },
      "execution_count": 226,
      "outputs": []
    },
    {
      "cell_type": "code",
      "source": [
        "print(\"Best Parameters for GRB model: \", GRB_optimization.best_params_)\n",
        "print(\"Mean Square Error of GRB Model: \", Mean_sqaure_error_GRB)"
      ],
      "metadata": {
        "colab": {
          "base_uri": "https://localhost:8080/"
        },
        "outputId": "e1cb7d2c-7b59-42ed-b8c6-93c37f91719f",
        "id": "FNOsJdk-fUOx"
      },
      "execution_count": 227,
      "outputs": [
        {
          "output_type": "stream",
          "name": "stdout",
          "text": [
            "Best Parameters for GRB model:  {'learning_rate': 0.1, 'max_depth': 3, 'n_estimators': 100}\n",
            "Mean Square Error of GRB Model:  0.04912816054449708\n"
          ]
        }
      ]
    },
    {
      "cell_type": "markdown",
      "source": [
        "Hyperparameter optimation for Random Forest Estimator"
      ],
      "metadata": {
        "id": "jOV5JoPhfUOx"
      }
    },
    {
      "cell_type": "code",
      "source": [
        "parameters_for_RFR = {\"n_estimators\" : [5, 50,100],\"max_depth\" : [1,3,5], \"max_features\" : ['log2', 'sqrt']}\n",
        "RFR_optimization = GridSearchCV(RandomForestRegressor(),parameters_for_RFR,  scoring='neg_mean_squared_error')\n",
        "#train the model\n",
        "RFR_optimization.fit(X_train,y_train)\n",
        "#make Predictions\n",
        "RFR_grid_preditions = RFR_optimization.predict(X_test)\n",
        "Mean_sqaure_error_RFR = mean_squared_error(RFR_grid_preditions, y_test)\n",
        "Mean_absolute_error_RFR= mean_absolute_error(RFR_grid_preditions, y_test)\n",
        "R2_SVR_RFR = r2_score(RFR_grid_preditions, y_test)"
      ],
      "metadata": {
        "id": "hH2hySydfUOy"
      },
      "execution_count": 228,
      "outputs": []
    },
    {
      "cell_type": "code",
      "source": [
        "print(\"Best Parameters for RFR model: \", GRB_optimization.best_params_)\n",
        "print(\"Mean Square Error of RFR Model: \", Mean_sqaure_error_RFR)"
      ],
      "metadata": {
        "colab": {
          "base_uri": "https://localhost:8080/"
        },
        "outputId": "30211d19-1582-4f5c-f3c8-5c52a8649096",
        "id": "N5ZgIjs6fUOy"
      },
      "execution_count": 229,
      "outputs": [
        {
          "output_type": "stream",
          "name": "stdout",
          "text": [
            "Best Parameters for RFR model:  {'learning_rate': 0.1, 'max_depth': 3, 'n_estimators': 100}\n",
            "Mean Square Error of RFR Model:  0.08768484120897872\n"
          ]
        }
      ]
    },
    {
      "cell_type": "code",
      "source": [
        "R2_models_without_PCA = [R2_SVR_poly, R2_SVR_RBF, R2_SVR_GBR, R2_SVR_RFR]"
      ],
      "metadata": {
        "id": "lupNgZFRgkNb"
      },
      "execution_count": 230,
      "outputs": []
    },
    {
      "cell_type": "markdown",
      "source": [
        "# Apply PCA with an explained variance threshold of 85%"
      ],
      "metadata": {
        "id": "5ON6VWRA_8Ym"
      }
    },
    {
      "cell_type": "code",
      "source": [
        "pca = PCA(n_components=0.85)\n",
        "principalComponents = pca.fit_transform(X)\n",
        "pca_dataset = pd.DataFrame(data = principalComponents\n",
        "             , columns = [\"Principal_Component {}\".format(i+1) for i in range(principalComponents.shape[1])])\n",
        "pca_dataset.head()\n"
      ],
      "metadata": {
        "colab": {
          "base_uri": "https://localhost:8080/",
          "height": 206
        },
        "id": "jsHq0Xd98kW0",
        "outputId": "08f15fd1-0373-4700-ef62-1792c588effe"
      },
      "execution_count": 239,
      "outputs": [
        {
          "output_type": "execute_result",
          "data": {
            "text/plain": [
              "   Principal_Component 1  Principal_Component 2  Principal_Component 3  \\\n",
              "0              -1.704983              -4.008267              -0.884389   \n",
              "1              -0.612561              -2.939409               0.311454   \n",
              "2              -1.407499              -3.099563               1.140717   \n",
              "3              -0.906482              -3.487086              -0.528962   \n",
              "4               1.378620              -1.733482              -1.478825   \n",
              "\n",
              "   Principal_Component 4  \n",
              "0              -0.829937  \n",
              "1              -1.020661  \n",
              "2              -1.202390  \n",
              "3              -1.024327  \n",
              "4              -1.440519  "
            ],
            "text/html": [
              "\n",
              "  <div id=\"df-57de3553-5e36-41c1-b984-74765790fb72\">\n",
              "    <div class=\"colab-df-container\">\n",
              "      <div>\n",
              "<style scoped>\n",
              "    .dataframe tbody tr th:only-of-type {\n",
              "        vertical-align: middle;\n",
              "    }\n",
              "\n",
              "    .dataframe tbody tr th {\n",
              "        vertical-align: top;\n",
              "    }\n",
              "\n",
              "    .dataframe thead th {\n",
              "        text-align: right;\n",
              "    }\n",
              "</style>\n",
              "<table border=\"1\" class=\"dataframe\">\n",
              "  <thead>\n",
              "    <tr style=\"text-align: right;\">\n",
              "      <th></th>\n",
              "      <th>Principal_Component 1</th>\n",
              "      <th>Principal_Component 2</th>\n",
              "      <th>Principal_Component 3</th>\n",
              "      <th>Principal_Component 4</th>\n",
              "    </tr>\n",
              "  </thead>\n",
              "  <tbody>\n",
              "    <tr>\n",
              "      <th>0</th>\n",
              "      <td>-1.704983</td>\n",
              "      <td>-4.008267</td>\n",
              "      <td>-0.884389</td>\n",
              "      <td>-0.829937</td>\n",
              "    </tr>\n",
              "    <tr>\n",
              "      <th>1</th>\n",
              "      <td>-0.612561</td>\n",
              "      <td>-2.939409</td>\n",
              "      <td>0.311454</td>\n",
              "      <td>-1.020661</td>\n",
              "    </tr>\n",
              "    <tr>\n",
              "      <th>2</th>\n",
              "      <td>-1.407499</td>\n",
              "      <td>-3.099563</td>\n",
              "      <td>1.140717</td>\n",
              "      <td>-1.202390</td>\n",
              "    </tr>\n",
              "    <tr>\n",
              "      <th>3</th>\n",
              "      <td>-0.906482</td>\n",
              "      <td>-3.487086</td>\n",
              "      <td>-0.528962</td>\n",
              "      <td>-1.024327</td>\n",
              "    </tr>\n",
              "    <tr>\n",
              "      <th>4</th>\n",
              "      <td>1.378620</td>\n",
              "      <td>-1.733482</td>\n",
              "      <td>-1.478825</td>\n",
              "      <td>-1.440519</td>\n",
              "    </tr>\n",
              "  </tbody>\n",
              "</table>\n",
              "</div>\n",
              "      <button class=\"colab-df-convert\" onclick=\"convertToInteractive('df-57de3553-5e36-41c1-b984-74765790fb72')\"\n",
              "              title=\"Convert this dataframe to an interactive table.\"\n",
              "              style=\"display:none;\">\n",
              "        \n",
              "  <svg xmlns=\"http://www.w3.org/2000/svg\" height=\"24px\"viewBox=\"0 0 24 24\"\n",
              "       width=\"24px\">\n",
              "    <path d=\"M0 0h24v24H0V0z\" fill=\"none\"/>\n",
              "    <path d=\"M18.56 5.44l.94 2.06.94-2.06 2.06-.94-2.06-.94-.94-2.06-.94 2.06-2.06.94zm-11 1L8.5 8.5l.94-2.06 2.06-.94-2.06-.94L8.5 2.5l-.94 2.06-2.06.94zm10 10l.94 2.06.94-2.06 2.06-.94-2.06-.94-.94-2.06-.94 2.06-2.06.94z\"/><path d=\"M17.41 7.96l-1.37-1.37c-.4-.4-.92-.59-1.43-.59-.52 0-1.04.2-1.43.59L10.3 9.45l-7.72 7.72c-.78.78-.78 2.05 0 2.83L4 21.41c.39.39.9.59 1.41.59.51 0 1.02-.2 1.41-.59l7.78-7.78 2.81-2.81c.8-.78.8-2.07 0-2.86zM5.41 20L4 18.59l7.72-7.72 1.47 1.35L5.41 20z\"/>\n",
              "  </svg>\n",
              "      </button>\n",
              "      \n",
              "  <style>\n",
              "    .colab-df-container {\n",
              "      display:flex;\n",
              "      flex-wrap:wrap;\n",
              "      gap: 12px;\n",
              "    }\n",
              "\n",
              "    .colab-df-convert {\n",
              "      background-color: #E8F0FE;\n",
              "      border: none;\n",
              "      border-radius: 50%;\n",
              "      cursor: pointer;\n",
              "      display: none;\n",
              "      fill: #1967D2;\n",
              "      height: 32px;\n",
              "      padding: 0 0 0 0;\n",
              "      width: 32px;\n",
              "    }\n",
              "\n",
              "    .colab-df-convert:hover {\n",
              "      background-color: #E2EBFA;\n",
              "      box-shadow: 0px 1px 2px rgba(60, 64, 67, 0.3), 0px 1px 3px 1px rgba(60, 64, 67, 0.15);\n",
              "      fill: #174EA6;\n",
              "    }\n",
              "\n",
              "    [theme=dark] .colab-df-convert {\n",
              "      background-color: #3B4455;\n",
              "      fill: #D2E3FC;\n",
              "    }\n",
              "\n",
              "    [theme=dark] .colab-df-convert:hover {\n",
              "      background-color: #434B5C;\n",
              "      box-shadow: 0px 1px 3px 1px rgba(0, 0, 0, 0.15);\n",
              "      filter: drop-shadow(0px 1px 2px rgba(0, 0, 0, 0.3));\n",
              "      fill: #FFFFFF;\n",
              "    }\n",
              "  </style>\n",
              "\n",
              "      <script>\n",
              "        const buttonEl =\n",
              "          document.querySelector('#df-57de3553-5e36-41c1-b984-74765790fb72 button.colab-df-convert');\n",
              "        buttonEl.style.display =\n",
              "          google.colab.kernel.accessAllowed ? 'block' : 'none';\n",
              "\n",
              "        async function convertToInteractive(key) {\n",
              "          const element = document.querySelector('#df-57de3553-5e36-41c1-b984-74765790fb72');\n",
              "          const dataTable =\n",
              "            await google.colab.kernel.invokeFunction('convertToInteractive',\n",
              "                                                     [key], {});\n",
              "          if (!dataTable) return;\n",
              "\n",
              "          const docLinkHtml = 'Like what you see? Visit the ' +\n",
              "            '<a target=\"_blank\" href=https://colab.research.google.com/notebooks/data_table.ipynb>data table notebook</a>'\n",
              "            + ' to learn more about interactive tables.';\n",
              "          element.innerHTML = '';\n",
              "          dataTable['output_type'] = 'display_data';\n",
              "          await google.colab.output.renderOutput(dataTable, element);\n",
              "          const docLink = document.createElement('div');\n",
              "          docLink.innerHTML = docLinkHtml;\n",
              "          element.appendChild(docLink);\n",
              "        }\n",
              "      </script>\n",
              "    </div>\n",
              "  </div>\n",
              "  "
            ]
          },
          "metadata": {},
          "execution_count": 239
        }
      ]
    },
    {
      "cell_type": "code",
      "source": [
        "from sklearn.model_selection import train_test_split\n",
        "X_train, X_test, y_train, y_test = train_test_split(pca_dataset, Y, random_state=0, test_size=0.2)"
      ],
      "metadata": {
        "id": "9mh9C01lhS68"
      },
      "execution_count": 241,
      "outputs": []
    },
    {
      "cell_type": "markdown",
      "source": [
        "# Develop Different Regression Methods to Predict Swirr."
      ],
      "metadata": {
        "id": "mOfVPDzILGYU"
      }
    },
    {
      "cell_type": "markdown",
      "source": [
        "## Support Vector Regressor "
      ],
      "metadata": {
        "id": "lDWjpnU_LaZm"
      }
    },
    {
      "cell_type": "markdown",
      "source": [
        "SVR with RBF kernel"
      ],
      "metadata": {
        "id": "-Do3wQqzRInO"
      }
    },
    {
      "cell_type": "code",
      "source": [
        "from sklearn.svm import SVR\n",
        "SVR_RBF = SVR(kernel='rbf')\n",
        "SVR_RBF = SVR_RBF.fit(X_train, y_train)\n",
        "print(\"SVR with RBF kernel train score: \", SVR_RBF.score(X_train, y_train))\n",
        "print(\"SVR with RBF kernel test score: \", SVR_RBF.score(X_test, y_test))"
      ],
      "metadata": {
        "colab": {
          "base_uri": "https://localhost:8080/"
        },
        "id": "h32uOq_8Ko7g",
        "outputId": "5522d1a0-d0fd-452c-add7-4a1afa2c7f50"
      },
      "execution_count": 242,
      "outputs": [
        {
          "output_type": "stream",
          "name": "stdout",
          "text": [
            "SVR with RBF kernel train score:  0.900225721078615\n",
            "SVR with RBF kernel test score:  0.769928680111293\n"
          ]
        }
      ]
    },
    {
      "cell_type": "markdown",
      "source": [
        "SVR with Polynomial Kernel of degree 2"
      ],
      "metadata": {
        "id": "guxlVPmTQ7nk"
      }
    },
    {
      "cell_type": "code",
      "source": [
        "SVR_poly = SVR(kernel='poly', degree=2)\n",
        "SVR_poly = SVR_poly.fit(X_train, y_train)\n",
        "print(\"SVR with RBF kernel train score: \", SVR_poly.score(X_train, y_train))\n",
        "print(\"SVR with RBF kernel test score: \",SVR_poly.score(X_test, y_test))"
      ],
      "metadata": {
        "colab": {
          "base_uri": "https://localhost:8080/"
        },
        "id": "nab9jYVTRG1w",
        "outputId": "b614f5d9-6708-4938-ef3b-a159e5af0881"
      },
      "execution_count": 243,
      "outputs": [
        {
          "output_type": "stream",
          "name": "stdout",
          "text": [
            "SVR with RBF kernel train score:  0.28535672300787784\n",
            "SVR with RBF kernel test score:  -0.21136016795385726\n"
          ]
        }
      ]
    },
    {
      "cell_type": "markdown",
      "source": [
        "Gradient Boosting Regressor"
      ],
      "metadata": {
        "id": "fOoBenOcSKY8"
      }
    },
    {
      "cell_type": "code",
      "source": [
        "from sklearn.ensemble import GradientBoostingRegressor\n",
        "GBR = GradientBoostingRegressor()\n",
        "GBR = GBR.fit(X_train, y_train)\n",
        "print(\"GBR train score:\", GBR.score(X_train, y_train))\n",
        "print(\"GBR test score:\", GBR.score(X_test, y_test))"
      ],
      "metadata": {
        "colab": {
          "base_uri": "https://localhost:8080/"
        },
        "id": "cYyGyXK2SO34",
        "outputId": "4659dfe8-9b8d-46b5-8504-3d9c95332043"
      },
      "execution_count": 244,
      "outputs": [
        {
          "output_type": "stream",
          "name": "stdout",
          "text": [
            "GBR train score: 0.9951135873043291\n",
            "GBR test score: 0.6907543264878256\n"
          ]
        }
      ]
    },
    {
      "cell_type": "markdown",
      "source": [
        "Random Forest Regressor"
      ],
      "metadata": {
        "id": "5PqeownYSPOR"
      }
    },
    {
      "cell_type": "code",
      "source": [
        "from sklearn.ensemble import RandomForestRegressor\n",
        "RFR = RandomForestRegressor()\n",
        "RFR = RFR.fit(X_train, y_train)\n",
        "print(\"GBR train score:\", RFR.score(X_train, y_train))\n",
        "print(\"GBR test score:\", RFR.score(X_test, y_test))"
      ],
      "metadata": {
        "colab": {
          "base_uri": "https://localhost:8080/"
        },
        "id": "EPWitqhcTh6a",
        "outputId": "459cea5f-f3ba-4193-abed-5aacb22e9b9a"
      },
      "execution_count": 245,
      "outputs": [
        {
          "output_type": "stream",
          "name": "stdout",
          "text": [
            "GBR train score: 0.967558739025729\n",
            "GBR test score: 0.6979622132178096\n"
          ]
        }
      ]
    },
    {
      "cell_type": "markdown",
      "source": [
        "Hyperparameter optimization of Support Vector Regressor with RBF"
      ],
      "metadata": {
        "id": "KBMVKFHf9D0K"
      }
    },
    {
      "cell_type": "code",
      "source": [
        "from sklearn.model_selection import GridSearchCV\n",
        "from sklearn.metrics import r2_score\n",
        "from sklearn.metrics import mean_squared_error\n",
        "parameters_for_optimization = {'C': [0.1,1, 10], 'gamma': [1,0.1,0.01,],'kernel': ['rbf']}\n",
        "svr_rbf = GridSearchCV(SVR(),parameters_for_optimization,refit=True,verbose=2, scoring='neg_mean_squared_error')\n",
        "#train the model\n",
        "svr_rbf.fit(X_train,y_train)\n",
        "#make Predictions\n",
        "grid_preditions = svr_rbf.predict(X_test)\n",
        "Mean_sqaure_error_svr_rbf = mean_squared_error(grid_preditions, y_test)\n",
        "Mean_absolute_error_svr_rbf = mean_absolute_error(grid_preditions, y_test)\n",
        "R2_SVR_RBF = r2_score(grid_preditions, y_test)"
      ],
      "metadata": {
        "id": "8u2YYSnpVHOZ",
        "colab": {
          "base_uri": "https://localhost:8080/"
        },
        "outputId": "9a2d96b0-d44b-4f9b-8101-17a3a4b6d669"
      },
      "execution_count": 246,
      "outputs": [
        {
          "output_type": "stream",
          "name": "stdout",
          "text": [
            "Fitting 5 folds for each of 9 candidates, totalling 45 fits\n",
            "[CV] END .........................C=0.1, gamma=1, kernel=rbf; total time=   0.0s\n",
            "[CV] END .........................C=0.1, gamma=1, kernel=rbf; total time=   0.0s\n",
            "[CV] END .........................C=0.1, gamma=1, kernel=rbf; total time=   0.0s\n",
            "[CV] END .........................C=0.1, gamma=1, kernel=rbf; total time=   0.0s\n",
            "[CV] END .........................C=0.1, gamma=1, kernel=rbf; total time=   0.0s\n",
            "[CV] END .......................C=0.1, gamma=0.1, kernel=rbf; total time=   0.0s\n",
            "[CV] END .......................C=0.1, gamma=0.1, kernel=rbf; total time=   0.0s\n",
            "[CV] END .......................C=0.1, gamma=0.1, kernel=rbf; total time=   0.0s\n",
            "[CV] END .......................C=0.1, gamma=0.1, kernel=rbf; total time=   0.0s\n",
            "[CV] END .......................C=0.1, gamma=0.1, kernel=rbf; total time=   0.0s\n",
            "[CV] END ......................C=0.1, gamma=0.01, kernel=rbf; total time=   0.0s\n",
            "[CV] END ......................C=0.1, gamma=0.01, kernel=rbf; total time=   0.0s\n",
            "[CV] END ......................C=0.1, gamma=0.01, kernel=rbf; total time=   0.0s\n",
            "[CV] END ......................C=0.1, gamma=0.01, kernel=rbf; total time=   0.0s\n",
            "[CV] END ......................C=0.1, gamma=0.01, kernel=rbf; total time=   0.0s\n",
            "[CV] END ...........................C=1, gamma=1, kernel=rbf; total time=   0.0s\n",
            "[CV] END ...........................C=1, gamma=1, kernel=rbf; total time=   0.0s\n",
            "[CV] END ...........................C=1, gamma=1, kernel=rbf; total time=   0.0s\n",
            "[CV] END ...........................C=1, gamma=1, kernel=rbf; total time=   0.0s\n",
            "[CV] END ...........................C=1, gamma=1, kernel=rbf; total time=   0.0s\n",
            "[CV] END .........................C=1, gamma=0.1, kernel=rbf; total time=   0.0s\n",
            "[CV] END .........................C=1, gamma=0.1, kernel=rbf; total time=   0.0s\n",
            "[CV] END .........................C=1, gamma=0.1, kernel=rbf; total time=   0.0s\n",
            "[CV] END .........................C=1, gamma=0.1, kernel=rbf; total time=   0.0s\n",
            "[CV] END .........................C=1, gamma=0.1, kernel=rbf; total time=   0.0s\n",
            "[CV] END ........................C=1, gamma=0.01, kernel=rbf; total time=   0.0s\n",
            "[CV] END ........................C=1, gamma=0.01, kernel=rbf; total time=   0.0s\n",
            "[CV] END ........................C=1, gamma=0.01, kernel=rbf; total time=   0.0s\n",
            "[CV] END ........................C=1, gamma=0.01, kernel=rbf; total time=   0.0s\n",
            "[CV] END ........................C=1, gamma=0.01, kernel=rbf; total time=   0.0s\n",
            "[CV] END ..........................C=10, gamma=1, kernel=rbf; total time=   0.0s\n",
            "[CV] END ..........................C=10, gamma=1, kernel=rbf; total time=   0.0s\n",
            "[CV] END ..........................C=10, gamma=1, kernel=rbf; total time=   0.0s\n",
            "[CV] END ..........................C=10, gamma=1, kernel=rbf; total time=   0.0s\n",
            "[CV] END ..........................C=10, gamma=1, kernel=rbf; total time=   0.0s\n",
            "[CV] END ........................C=10, gamma=0.1, kernel=rbf; total time=   0.0s\n",
            "[CV] END ........................C=10, gamma=0.1, kernel=rbf; total time=   0.0s\n",
            "[CV] END ........................C=10, gamma=0.1, kernel=rbf; total time=   0.0s\n",
            "[CV] END ........................C=10, gamma=0.1, kernel=rbf; total time=   0.0s\n",
            "[CV] END ........................C=10, gamma=0.1, kernel=rbf; total time=   0.0s\n",
            "[CV] END .......................C=10, gamma=0.01, kernel=rbf; total time=   0.0s\n",
            "[CV] END .......................C=10, gamma=0.01, kernel=rbf; total time=   0.0s\n",
            "[CV] END .......................C=10, gamma=0.01, kernel=rbf; total time=   0.0s\n",
            "[CV] END .......................C=10, gamma=0.01, kernel=rbf; total time=   0.0s\n",
            "[CV] END .......................C=10, gamma=0.01, kernel=rbf; total time=   0.0s\n"
          ]
        }
      ]
    },
    {
      "cell_type": "code",
      "source": [
        "print(\"Best Parameters for SVR RBF model: \", svr_rbf.best_params_)\n",
        "print(\"Mean Square Error of SVR RBF : \", Mean_sqaure_error_svr_rbf)\n",
        "print(\"Mean Absoute Error of SVR RBF : \", Mean_absolute_error_svr_rbf)"
      ],
      "metadata": {
        "colab": {
          "base_uri": "https://localhost:8080/"
        },
        "id": "NMLFiZDS7_ze",
        "outputId": "2d066f7f-1798-428d-8e92-65f1ef767f20"
      },
      "execution_count": 247,
      "outputs": [
        {
          "output_type": "stream",
          "name": "stdout",
          "text": [
            "Best Parameters for SVR RBF model:  {'C': 10, 'gamma': 0.01, 'kernel': 'rbf'}\n",
            "Mean Square Error of SVR RBF :  0.14067107319012806\n",
            "Mean Absoute Error of SVR RBF :  0.3093080704918303\n"
          ]
        }
      ]
    },
    {
      "cell_type": "markdown",
      "source": [
        "Hyperparameter optimization of Support Vector Regressor with Poly"
      ],
      "metadata": {
        "id": "Ra15VszILXkd"
      }
    },
    {
      "cell_type": "code",
      "source": [
        "from sklearn.model_selection import GridSearchCV\n",
        "from sklearn.metrics import mean_squared_error\n",
        "parameters_for_optimizations = {'C': [0.1,1, 10], 'gamma': [1,0.1,0.01,],'kernel': ['poly']}\n",
        "svr_poly = GridSearchCV(SVR(),parameters_for_optimizations,refit=True,verbose=2, scoring='neg_mean_squared_error')\n",
        "#train the model\n",
        "svr_poly.fit(X_train,y_train)\n",
        "#make Predictions\n",
        "grid_preditions_poly = svr_poly.predict(X_test)\n",
        "Mean_sqaure_error_svr_poly = mean_squared_error(grid_preditions_poly, y_test)\n",
        "Mean_absolute_error_svr_poly = mean_absolute_error(grid_preditions_poly, y_test)\n",
        "R2_SVR_poly = r2_score(grid_preditions_poly, y_test)"
      ],
      "metadata": {
        "colab": {
          "base_uri": "https://localhost:8080/"
        },
        "id": "18BAMZy_LTTZ",
        "outputId": "15820cda-94c7-43aa-cc8e-741002048e9a"
      },
      "execution_count": 248,
      "outputs": [
        {
          "output_type": "stream",
          "name": "stdout",
          "text": [
            "Fitting 5 folds for each of 9 candidates, totalling 45 fits\n",
            "[CV] END ........................C=0.1, gamma=1, kernel=poly; total time=   0.1s\n",
            "[CV] END ........................C=0.1, gamma=1, kernel=poly; total time=   0.1s\n",
            "[CV] END ........................C=0.1, gamma=1, kernel=poly; total time=   0.0s\n",
            "[CV] END ........................C=0.1, gamma=1, kernel=poly; total time=   0.0s\n",
            "[CV] END ........................C=0.1, gamma=1, kernel=poly; total time=   0.0s\n",
            "[CV] END ......................C=0.1, gamma=0.1, kernel=poly; total time=   0.0s\n",
            "[CV] END ......................C=0.1, gamma=0.1, kernel=poly; total time=   0.0s\n",
            "[CV] END ......................C=0.1, gamma=0.1, kernel=poly; total time=   0.0s\n",
            "[CV] END ......................C=0.1, gamma=0.1, kernel=poly; total time=   0.0s\n",
            "[CV] END ......................C=0.1, gamma=0.1, kernel=poly; total time=   0.0s\n",
            "[CV] END .....................C=0.1, gamma=0.01, kernel=poly; total time=   0.0s\n",
            "[CV] END .....................C=0.1, gamma=0.01, kernel=poly; total time=   0.0s\n",
            "[CV] END .....................C=0.1, gamma=0.01, kernel=poly; total time=   0.0s\n",
            "[CV] END .....................C=0.1, gamma=0.01, kernel=poly; total time=   0.0s\n",
            "[CV] END .....................C=0.1, gamma=0.01, kernel=poly; total time=   0.0s\n",
            "[CV] END ..........................C=1, gamma=1, kernel=poly; total time=   0.4s\n",
            "[CV] END ..........................C=1, gamma=1, kernel=poly; total time=   0.5s\n",
            "[CV] END ..........................C=1, gamma=1, kernel=poly; total time=   0.3s\n",
            "[CV] END ..........................C=1, gamma=1, kernel=poly; total time=   0.6s\n",
            "[CV] END ..........................C=1, gamma=1, kernel=poly; total time=   0.3s\n",
            "[CV] END ........................C=1, gamma=0.1, kernel=poly; total time=   0.0s\n",
            "[CV] END ........................C=1, gamma=0.1, kernel=poly; total time=   0.0s\n",
            "[CV] END ........................C=1, gamma=0.1, kernel=poly; total time=   0.0s\n",
            "[CV] END ........................C=1, gamma=0.1, kernel=poly; total time=   0.0s\n",
            "[CV] END ........................C=1, gamma=0.1, kernel=poly; total time=   0.0s\n",
            "[CV] END .......................C=1, gamma=0.01, kernel=poly; total time=   0.0s\n",
            "[CV] END .......................C=1, gamma=0.01, kernel=poly; total time=   0.0s\n",
            "[CV] END .......................C=1, gamma=0.01, kernel=poly; total time=   0.0s\n",
            "[CV] END .......................C=1, gamma=0.01, kernel=poly; total time=   0.0s\n",
            "[CV] END .......................C=1, gamma=0.01, kernel=poly; total time=   0.0s\n",
            "[CV] END .........................C=10, gamma=1, kernel=poly; total time=  17.0s\n",
            "[CV] END .........................C=10, gamma=1, kernel=poly; total time=   7.6s\n",
            "[CV] END .........................C=10, gamma=1, kernel=poly; total time=   2.6s\n",
            "[CV] END .........................C=10, gamma=1, kernel=poly; total time=   6.4s\n",
            "[CV] END .........................C=10, gamma=1, kernel=poly; total time=   3.2s\n",
            "[CV] END .......................C=10, gamma=0.1, kernel=poly; total time=   0.0s\n",
            "[CV] END .......................C=10, gamma=0.1, kernel=poly; total time=   0.0s\n",
            "[CV] END .......................C=10, gamma=0.1, kernel=poly; total time=   0.0s\n",
            "[CV] END .......................C=10, gamma=0.1, kernel=poly; total time=   0.0s\n",
            "[CV] END .......................C=10, gamma=0.1, kernel=poly; total time=   0.0s\n",
            "[CV] END ......................C=10, gamma=0.01, kernel=poly; total time=   0.0s\n",
            "[CV] END ......................C=10, gamma=0.01, kernel=poly; total time=   0.0s\n",
            "[CV] END ......................C=10, gamma=0.01, kernel=poly; total time=   0.0s\n",
            "[CV] END ......................C=10, gamma=0.01, kernel=poly; total time=   0.0s\n",
            "[CV] END ......................C=10, gamma=0.01, kernel=poly; total time=   0.0s\n"
          ]
        }
      ]
    },
    {
      "cell_type": "code",
      "source": [
        "print(\"Best Parameters for SVR RBF model: \", svr_poly.best_params_)\n",
        "print(\"Mean Square Error of SVR RBF : \", Mean_sqaure_error_svr_poly)"
      ],
      "metadata": {
        "colab": {
          "base_uri": "https://localhost:8080/"
        },
        "id": "iwPEJSd3LtN0",
        "outputId": "dd82fd90-3996-4e37-8040-a36b92a00da7"
      },
      "execution_count": 249,
      "outputs": [
        {
          "output_type": "stream",
          "name": "stdout",
          "text": [
            "Best Parameters for SVR RBF model:  {'C': 0.1, 'gamma': 0.1, 'kernel': 'poly'}\n",
            "Mean Square Error of SVR RBF :  0.4248392751145475\n"
          ]
        }
      ]
    },
    {
      "cell_type": "markdown",
      "source": [
        "Hyperparameter Optimization for Gradient Boosting Regression"
      ],
      "metadata": {
        "id": "pPrz8sDJ-oR-"
      }
    },
    {
      "cell_type": "code",
      "source": [
        "parameters_for_GBR = {\n",
        "    \"n_estimators\" : [5, 50,100],\n",
        "    \"max_depth\" : [1,3,5],\n",
        "    \"learning_rate\" : [0.001, 0.01, 0.1]\n",
        "}\n",
        "GRB_optimization = GridSearchCV(GradientBoostingRegressor(),parameters_for_GBR,  scoring='neg_mean_squared_error')\n",
        "#train the model\n",
        "GRB_optimization.fit(X_train,y_train)\n",
        "#make Predictions\n",
        "GRB_grid_preditions = GRB_optimization.predict(X_test)\n",
        "Mean_sqaure_error_GRB = mean_squared_error(GRB_grid_preditions, y_test)\n",
        "Mean_absolute_error_GRB= mean_absolute_error(GRB_grid_preditions, y_test)\n",
        "R2_SVR_GBR = r2_score(GRB_grid_preditions, y_test)"
      ],
      "metadata": {
        "id": "ov85cCj9-0sO"
      },
      "execution_count": 250,
      "outputs": []
    },
    {
      "cell_type": "code",
      "source": [
        "print(\"Best Parameters for GRB model: \", GRB_optimization.best_params_)\n",
        "print(\"Mean Square Error of GRB Model: \", Mean_sqaure_error_GRB)"
      ],
      "metadata": {
        "colab": {
          "base_uri": "https://localhost:8080/"
        },
        "id": "goNqOaDNAoxU",
        "outputId": "02f50f5c-c483-4189-fe3e-e717e34d3254"
      },
      "execution_count": 251,
      "outputs": [
        {
          "output_type": "stream",
          "name": "stdout",
          "text": [
            "Best Parameters for GRB model:  {'learning_rate': 0.1, 'max_depth': 3, 'n_estimators': 100}\n",
            "Mean Square Error of GRB Model:  0.194909264717568\n"
          ]
        }
      ]
    },
    {
      "cell_type": "markdown",
      "source": [
        "Hyperparameter optimation for Random Forest Estimator"
      ],
      "metadata": {
        "id": "zp0SD-1IGSya"
      }
    },
    {
      "cell_type": "code",
      "source": [
        "parameters_for_RFR = {\"n_estimators\" : [5, 50,100],\"max_depth\" : [1,3,5], \"max_features\" : ['log2', 'sqrt']}\n",
        "RFR_optimization = GridSearchCV(RandomForestRegressor(),parameters_for_RFR,  scoring='neg_mean_squared_error')\n",
        "#train the model\n",
        "RFR_optimization.fit(X_train,y_train)\n",
        "#make Predictions\n",
        "RFR_grid_preditions = RFR_optimization.predict(X_test)\n",
        "Mean_sqaure_error_RFR = mean_squared_error(RFR_grid_preditions, y_test)\n",
        "Mean_absolute_error_RFR= mean_absolute_error(RFR_grid_preditions, y_test)\n",
        "R2_SVR_RFR = r2_score(RFR_grid_preditions, y_test)"
      ],
      "metadata": {
        "id": "fl-6jy1CA8K8"
      },
      "execution_count": 252,
      "outputs": []
    },
    {
      "cell_type": "code",
      "source": [
        "print(\"Best Parameters for RFR model: \", GRB_optimization.best_params_)\n",
        "print(\"Mean Square Error of RFR Model: \", Mean_sqaure_error_RFR)"
      ],
      "metadata": {
        "colab": {
          "base_uri": "https://localhost:8080/"
        },
        "id": "Hj3-ccHbH41b",
        "outputId": "f06b9e86-7d58-403a-e6e3-2df1829e4edc"
      },
      "execution_count": 253,
      "outputs": [
        {
          "output_type": "stream",
          "name": "stdout",
          "text": [
            "Best Parameters for RFR model:  {'learning_rate': 0.1, 'max_depth': 3, 'n_estimators': 100}\n",
            "Mean Square Error of RFR Model:  0.14076727005938824\n"
          ]
        }
      ]
    },
    {
      "cell_type": "markdown",
      "source": [
        "Compare the performances of the optimized SVR(kernel=poly,degree=2), SVR(Kernel=RBF), Gradient Boosting, and Random Forest regressors in terms of root mean squared error (RMSE) and mean absolute error (MAE)"
      ],
      "metadata": {
        "id": "9VxsS_S3JfG3"
      }
    },
    {
      "cell_type": "code",
      "source": [
        "RMSE_SVR_poly = np.sqrt(Mean_sqaure_error_svr_poly)\n",
        "RMSE_SVR_rbf = np.sqrt(Mean_sqaure_error_svr_rbf)\n",
        "RMSE_GBR =np.sqrt(Mean_sqaure_error_GRB)\n",
        "RMSE_RFR = np.sqrt(Mean_sqaure_error_RFR)\n",
        "RMSE_of_all_models = [RMSE_SVR_poly, RMSE_SVR_rbf, RMSE_GBR, RMSE_RFR]\n",
        "\n",
        "MAE = [Mean_absolute_error_svr_poly, Mean_absolute_error_svr_rbf, Mean_absolute_error_GRB, Mean_absolute_error_RFR]"
      ],
      "metadata": {
        "id": "YFm0DwSwIwcx"
      },
      "execution_count": 254,
      "outputs": []
    },
    {
      "cell_type": "code",
      "source": [
        "#Bar plot\n",
        "import matplotlib.pyplot as plt"
      ],
      "metadata": {
        "id": "J4d-B51IOuTQ"
      },
      "execution_count": 255,
      "outputs": []
    },
    {
      "cell_type": "code",
      "source": [
        "model_used = [\"SVR Poly\",\"SVR RBF\", \"GBR\", \"RFR\"]\n",
        "figure, ax = plt.subplots()\n",
        "ax.bar(model_used, RMSE_of_all_models, label = 'RMSE')\n",
        "ax.bar(model_used, MAE, label = 'MAE')\n",
        "ax.legend()"
      ],
      "metadata": {
        "colab": {
          "base_uri": "https://localhost:8080/",
          "height": 448
        },
        "id": "eXdoa3ePOB8r",
        "outputId": "a66c909f-24a9-42db-b945-5f8151c27b13"
      },
      "execution_count": 256,
      "outputs": [
        {
          "output_type": "execute_result",
          "data": {
            "text/plain": [
              "<matplotlib.legend.Legend at 0x7f26c5884850>"
            ]
          },
          "metadata": {},
          "execution_count": 256
        },
        {
          "output_type": "display_data",
          "data": {
            "text/plain": [
              "<Figure size 640x480 with 1 Axes>"
            ],
            "image/png": "[encoded data removed]"
          },
          "metadata": {}
        }
      ]
    },
    {
      "cell_type": "markdown",
      "source": [
        "The plot clearly depicts that the Support Vector Regressor with RBF kernel has minimum root mean sqaure ehich indicates  that the predicted outcomes of the model are closer to the actual ones. The second model with minimum RMSE is Random Forest Regressor. These too models provide best results."
      ],
      "metadata": {
        "id": "SyJ7yIsZPbZ1"
      }
    },
    {
      "cell_type": "markdown",
      "source": [
        " Compare the performances in terms of R-squared (R2) score"
      ],
      "metadata": {
        "id": "TcNPFP-QYaZp"
      }
    },
    {
      "cell_type": "markdown",
      "source": [
        "Comaprsion plots clearlu illustrates that the models withot using PCA provides more accurate results. A high R-squared (R2) value is desirable. Model without using dimensionality reduction contains all the information hidden in the data. It has predicted a value cloest to 1 for R2 indicates that all of the variation in the dependent variable can be determined from the independent variable(s), whereas while using PCA a value of 0 and below 0 shows that not all of the variation in the based variable can be determined from the independent variable(s). Consequently, a greater R2 value indicates a superior model fit to the data.\n"
      ],
      "metadata": {
        "id": "Y0mvQtlAi9Gg"
      }
    },
    {
      "cell_type": "code",
      "source": [
        "R2_models = [R2_SVR_poly, R2_SVR_RBF, R2_SVR_GBR, R2_SVR_RFR]\n",
        "plt.bar(model_used, R2_models)\n",
        "plt.title(\"With PCA\")\n"
      ],
      "metadata": {
        "colab": {
          "base_uri": "https://localhost:8080/",
          "height": 470
        },
        "id": "3CCEckIPRyJh",
        "outputId": "b32338f9-fbf3-493b-d1ba-816e2fc56b82"
      },
      "execution_count": 259,
      "outputs": [
        {
          "output_type": "execute_result",
          "data": {
            "text/plain": [
              "Text(0.5, 1.0, 'With PCA')"
            ]
          },
          "metadata": {},
          "execution_count": 259
        },
        {
          "output_type": "display_data",
          "data": {
            "text/plain": [
              "<Figure size 640x480 with 1 Axes>"
            ],
            "image/png": "[encoded data removed]"
          },
          "metadata": {}
        }
      ]
    },
    {
      "cell_type": "code",
      "source": [
        "plt.bar(model_used, R2_models_without_PCA)\n",
        "plt.title(\"Without PCA\")\n"
      ],
      "metadata": {
        "colab": {
          "base_uri": "https://localhost:8080/",
          "height": 470
        },
        "id": "iltNck82iSs3",
        "outputId": "a31e1308-d091-4573-ccd9-9b5797355492"
      },
      "execution_count": 261,
      "outputs": [
        {
          "output_type": "execute_result",
          "data": {
            "text/plain": [
              "Text(0.5, 1.0, 'Without PCA')"
            ]
          },
          "metadata": {},
          "execution_count": 261
        },
        {
          "output_type": "display_data",
          "data": {
            "text/plain": [
              "<Figure size 640x480 with 1 Axes>"
            ],
            "image/png": "[encoded data removed]"
          },
          "metadata": {}
        }
      ]
    },
    {
      "cell_type": "markdown",
      "source": [
        "The graph clearly depicts that the Suppot vector Regressor with Poly kerneal has minimum absolute error. So it produces more accurate predictions on the testing sets. Random FOrest Regressor aslo has lowest MAE than Gradient boosting and SVR with RBF. "
      ],
      "metadata": {
        "id": "t1wNNP00X8V3"
      }
    },
    {
      "cell_type": "markdown",
      "source": [
        " Compare the True vs. Predicted"
      ],
      "metadata": {
        "id": "5CYxWlYfbYkF"
      }
    },
    {
      "cell_type": "code",
      "source": [
        "figure, ax = plt.subplots(2,2)\n",
        "ax[0,0].scatter(y_test,grid_preditions)\n",
        "ax[0,0].set_title(\"SVR using RBG kernel\")\n",
        "ax[0,1].scatter(y_test,grid_preditions_poly)\n",
        "ax[0,1].set_title(\"SVR using Poly kernel\")\n",
        "ax[1,0].scatter(y_test,RFR_grid_preditions)\n",
        "ax[1,0].set_title(\"Random Forest\")\n",
        "ax[1,1].scatter(y_test,GRB_grid_preditions)\n",
        "ax[1,1].set_title(\"Gradient Boosting\")\n",
        "\n"
      ],
      "metadata": {
        "colab": {
          "base_uri": "https://localhost:8080/",
          "height": 470
        },
        "id": "10kCa544YW-o",
        "outputId": "2344cf64-8496-4a6c-a1ef-9c41629163f4"
      },
      "execution_count": 197,
      "outputs": [
        {
          "output_type": "execute_result",
          "data": {
            "text/plain": [
              "Text(0.5, 1.0, 'Gradient Boosting')"
            ]
          },
          "metadata": {},
          "execution_count": 197
        },
        {
          "output_type": "display_data",
          "data": {
            "text/plain": [
              "<Figure size 640x480 with 4 Axes>"
            ],
            "image/png": "[encoded data removed]"
          },
          "metadata": {}
        }
      ]
    }
  ]
}